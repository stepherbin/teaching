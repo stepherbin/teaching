{
  "nbformat": 4,
  "nbformat_minor": 0,
  "metadata": {
    "colab": {
      "name": "td1_knn_bayesien_correction.ipynb",
      "provenance": [],
      "collapsed_sections": []
    },
    "kernelspec": {
      "display_name": "Python 3",
      "language": "python",
      "name": "python3"
    }
  },
  "cells": [
    {
      "cell_type": "markdown",
      "metadata": {
        "id": "_Jg7JVDh1jlj"
      },
      "source": [
        "# TD 1: Apprentissage automatique - Approche bayésienne et k-NN\n",
        "## 12 / 01 / 2021\n",
        "\n",
        "Répondez aux questions dans le document et copiez les lignes de code qui ont produit les résultats aux endroits indiqués.\n",
        "\n",
        "Le TD comprend 2 parties:\n",
        "* Une comparaison des approches bayésienne et plus proches voisins pour un problème de classification binaire. Les algorithmes seront codés intégralement en python.\n",
        "* Une prise en main sur un autre problème de la bibliothèque  [scikit-learn](http://scikit-learn.org/stable/modules/classes.html) qui implémente les mêmes algorithmes.\n"
      ]
    },
    {
      "cell_type": "markdown",
      "metadata": {
        "id": "49SXeP9y5Bmi"
      },
      "source": [
        "______\n",
        "\n",
        "# Introduction: Utilisation de Colab\n",
        "______\n",
        "\n",
        "Dans ce TD, on utilise les ressources proposées par ColaB. Les données seront stockées sur le Goggle Drive associé à votre compte Gmail.\n",
        "\n",
        "Pour accéder au données depuis Colab, il faut \"monter le Gdrive\" depuis une session Colab.\n",
        "\n",
        "Exécutez le cellule suivante pour le faire. il vous sera demandé de saisir une clé d'authentification générée à partir du lien affiché. (Ctrl+Enter ou clic sur la flèche)"
      ]
    },
    {
      "cell_type": "code",
      "metadata": {
        "id": "mrs_sTGV15Xa",
        "colab": {
          "base_uri": "https://localhost:8080/"
        },
        "outputId": "fea79e8b-6b5a-4c98-c428-a29fa836a080"
      },
      "source": [
        "from google.colab import drive\n",
        "drive.mount('/content/gdrive')"
      ],
      "execution_count": 5,
      "outputs": [
        {
          "output_type": "stream",
          "text": [
            "Drive already mounted at /content/gdrive; to attempt to forcibly remount, call drive.mount(\"/content/gdrive\", force_remount=True).\n"
          ],
          "name": "stdout"
        }
      ]
    },
    {
      "cell_type": "markdown",
      "metadata": {
        "id": "2l_9h-Hs7DQ5"
      },
      "source": [
        "Il faut ensuite positionner des variables d'environnement pour indiquer à Colab où se trouvent les données (fichiers python et données d'apprentissage).\n",
        "\n",
        "Exécutez la cellule suivante pour le faire, et modifiez la variable 'TD_DIR' à l'endroit où vous avez sauvegardé le TD1. "
      ]
    },
    {
      "cell_type": "code",
      "metadata": {
        "id": "JJSr-2A-2YV4"
      },
      "source": [
        "import sys\n",
        "\n",
        "# Modifier la variable du TD en fonction de l'endroit où les données sont stockées\n",
        "TD_DIR = 'gdrive/My Drive/teaching/IOGS/'\n",
        "sys.path.append(TD_DIR)"
      ],
      "execution_count": 6,
      "outputs": []
    },
    {
      "cell_type": "markdown",
      "metadata": {
        "id": "IvzozXj31jlp"
      },
      "source": [
        "______\n",
        "\n",
        "# Partie 1: Apprentissage automatique en Python\n",
        "______\n",
        "\n",
        "On se propose dans cette première partie de construire une démarche d'apprentissage sur un problème simple, et de programmer les deux algorithmes vus dans le cours (bayésien naĩf et plus proches voisins).\n",
        "\n",
        "Chaque jeu de données est constitué de quatre ensembles :\n",
        "* Un ensemble de données test utilisées pour l'apprentissage : trainX\n",
        "* Un ensemble de classes associées aux données d'apprentissage : trainY\n",
        "* Un ensemble de données à tester : testX\n",
        "* Un ensemble de classes associées aux données de test : testY\n",
        "\n",
        "Les données de test ne doivent pas être utilisées pour l'apprentissage proprement dit, seulement pour son évaluation.\n",
        "\n",
        "Si besoin (validation croisée), les jeux d'apprentissage peuvent être répartis en train + validation.\n",
        "\n",
        "Remarque: Pour visualiser dans le notebook, appliquer l'instruction:\n",
        ">```python\n",
        "plt.show() ```\n",
        "\n",
        "après chaque fonction de visualisation.\n"
      ]
    },
    {
      "cell_type": "markdown",
      "metadata": {
        "id": "LXY0yzAO1jls"
      },
      "source": [
        "## Activité 1.1 : Bayésien naïf.\n",
        "\n",
        "On se propose de réaliser une classification binaire d'un ensemble de données en utilisant une approche de type \"bayésien naïf\".\n",
        "\n",
        "Le problème est une classification binaire pour détecter des billets de banque frauduleux. Les données source d'origine sont accessible ici https://archive.ics.uci.edu/ml/datasets/banknote+authentication, mais sont aussi présentes sur votre machine. \n",
        "\n",
        "L'objectif est de dérouler les différentes étapes d'une démarche d'apprentissage automatique:\n",
        "1. Constitution de la base d'apprentissage\n",
        "2. Visualisation des données\n",
        "3. Choix de l'approche\n",
        "4. Optimisation\n",
        "5. Evaluation\n",
        "\n",
        "### Base d'apprentissage"
      ]
    },
    {
      "cell_type": "markdown",
      "metadata": {
        "id": "Xs5nFUr51jlx"
      },
      "source": [
        "\n",
        "<div class=\"alert alert-block alert-info\">\n",
        "\n",
        "Les données source ont été placées dans le répertoire du TP (fichier 'data_banknote_authentication.txt').\n",
        "\n",
        "Exécuter le code ci-dessous qui les charge, et qui les répartit en ensemble d'apprentissage et de test (fonction 'train_test_split')\n",
        "\n",
        "Montrer les tailles des données (nombre de caractéristiques, nombre de données). \n",
        "\n",
        "</div>\n"
      ]
    },
    {
      "cell_type": "code",
      "metadata": {
        "id": "MN6fhLhP1jl0",
        "colab": {
          "base_uri": "https://localhost:8080/"
        },
        "outputId": "49a78633-1280-4746-f3c0-e192fac9e491"
      },
      "source": [
        "# Librairies scientifique et visualisation utiles standard\n",
        "import numpy as np\n",
        "import matplotlib.pyplot as plt\n",
        "import random\n",
        "\n",
        "# Pour séparer les données en apprentissage et test\n",
        "from sklearn.model_selection import train_test_split\n",
        "\n",
        "# Pour visualiser  les données\n",
        "def show_data_2D(X,Y):\n",
        "    np.unique(Y)\n",
        "    fig, ax = plt.subplots(figsize=(8, 6))\n",
        "    for id in np.unique(Y):\n",
        "        idpositive=np.nonzero(Y == id)[0]\n",
        "        ax.scatter(X[idpositive,0], X[idpositive,1], s=50)\n",
        "\n",
        "# Chargement des données et constitution de la base d'apprentissage\n",
        "\n",
        "X = np.loadtxt(TD_DIR+'data_banknote_authentication.txt', delimiter=',')\n",
        "y = X[:,-1]\n",
        "X = X[:,:-1]\n",
        "\n",
        "X_train, X_test, y_train, y_test = train_test_split(X, y,\n",
        "                                                    random_state=42,\n",
        "                                                    stratify=y,\n",
        "                                                    test_size=0.8)\n",
        "\n",
        "# MODIFIER LE CODE\n",
        "\n",
        "print(\"Les données sont de dimension {:d}\".format(X_train.shape[1]))\n",
        "print(\"Le nombre de données d'apprentissage est {:d}\".format(y_train.shape[0]))\n"
      ],
      "execution_count": 7,
      "outputs": [
        {
          "output_type": "stream",
          "text": [
            "Les données sont de dimension 4\n",
            "Le nombre de données d'apprentissage est 274\n"
          ],
          "name": "stdout"
        }
      ]
    },
    {
      "cell_type": "markdown",
      "metadata": {
        "id": "zfA9d9xR1jmB"
      },
      "source": [
        "### Visualisation des données"
      ]
    },
    {
      "cell_type": "markdown",
      "metadata": {
        "id": "swvXzFRX1jmF"
      },
      "source": [
        "\n",
        "\n",
        "<div class=\"alert alert-block alert-info\">\n",
        "\n",
        "Faire des sorties visuelles des distributions de données. Vous pourrez utiliser les fonctions de visualisation \"show_data_2D\" pour mettre en évidence les corrélations, et [plt.hist](https://matplotlib.org/devdocs/api/_as_gen/matplotlib.pyplot.hist.html) pour visualiser des histogrammes pour chaque classe.\n",
        "\n",
        "</div>\n"
      ]
    },
    {
      "cell_type": "code",
      "metadata": {
        "id": "6T4TOisi1jmI",
        "colab": {
          "base_uri": "https://localhost:8080/",
          "height": 622
        },
        "outputId": "09bc1697-3229-47ac-90b3-b46621044b9a"
      },
      "source": [
        "\n",
        "\n",
        "# Dimensions à étudier (à répéter pour d'autres dimensions)\n",
        "feat1 = 0\n",
        "feat2 = 3\n",
        "\n",
        "# Distributions 2D\n",
        "show_data_2D(X_train[:,[feat1, feat2]], y_train)\n",
        "plt.show()\n",
        "\n",
        "X0 = X_train[y_train == 0,:]\n",
        "X1 = X_train[y_train == 1,:]\n",
        "\n",
        "# Visualise les distributions pour un attribut\n",
        "a1 = X0[:,feat1]\n",
        "b1 = X1[:,feat1]\n",
        "\n",
        "\n",
        "# METTRE VOTRE CODE ICI\n",
        "\n",
        "plt.hist(a1, color='b', alpha=0.5, bins=20, label=['class 0'])\n",
        "plt.hist(b1, color='g', alpha=0.5, bins=20, label=['class 1'])\n",
        "plt.legend(loc='upper right')\n",
        "plt.show()\n"
      ],
      "execution_count": 14,
      "outputs": [
        {
          "output_type": "display_data",
          "data": {
            "image/png": "[encoded data removed]",
            "text/plain": [
              "<Figure size 576x432 with 1 Axes>"
            ]
          },
          "metadata": {
            "tags": [],
            "needs_background": "light"
          }
        },
        {
          "output_type": "display_data",
          "data": {
            "image/png": "[encoded data removed]",
            "text/plain": [
              "<Figure size 432x288 with 1 Axes>"
            ]
          },
          "metadata": {
            "tags": [],
            "needs_background": "light"
          }
        }
      ]
    },
    {
      "cell_type": "markdown",
      "metadata": {
        "id": "BWO5BekW1jmQ"
      },
      "source": [
        "### Choix de l'approche"
      ]
    },
    {
      "cell_type": "markdown",
      "metadata": {
        "id": "h_HEhRkx1jmU"
      },
      "source": [
        "\n",
        "\n",
        "<div class=\"alert alert-block alert-info\">\n",
        "\n",
        "Le principe du bayésien naïf est d'estimer la loi conditionnelle $P[x_i | y]$ pour les différentes hypothèses $y\\in\\{0,1\\}$ et caractéristiques $x_i$.\n",
        "<br><br>\n",
        "A partir de la répartition des données pour chaque caractéristique, le principe du choix de l'approche est de sélectionner un bon modèle de cette distribution (binomiale, multinomiale, gaussienne, histogram, mélange de gaussienne...)?\n",
        "<br><br>\n",
        "Vous pouvez regarder la bibliothèque [scipy.stats](https://docs.scipy.org/doc/scipy/reference/stats.html) qui définit les familles courantes de distributions statistiques.\n",
        "<br><br>\n",
        "Essayez d'estimer quelques lois paramétriques pertinentes (méthode 'fit' des classes de scipy.stats) en les superposant aux histogrammes des données. \n",
        "\n",
        "</div>\n"
      ]
    },
    {
      "cell_type": "code",
      "metadata": {
        "scrolled": false,
        "id": "hpqUPCMu1jmX",
        "colab": {
          "base_uri": "https://localhost:8080/",
          "height": 281
        },
        "outputId": "7b43d0b9-9a0a-41f3-8230-e8e84e2f7d64"
      },
      "source": [
        "# Choix de la distribution\n",
        "from scipy.stats import laplace, expon, norm, gamma, beta, cauchy, logistic\n",
        "\n",
        "# Changer de distribution\n",
        "distrib=norm\n",
        "\n",
        "# Choix de la caractéristique\n",
        "feat1 = 2\n",
        "a1 = X0[:,feat1]\n",
        "b1 = X1[:,feat1]\n",
        "\n",
        "# Visualise les distributions pour une caractéristique\n",
        "plt.clf()\n",
        "\n",
        "data = a1\n",
        "param = distrib.fit(data)\n",
        "\n",
        "# Plot the histogram.\n",
        "plt.hist(data, bins=25, density=True, alpha=0.6, color='b')\n",
        "\n",
        "# Plot the PDF.\n",
        "xmin, xmax = plt.xlim()\n",
        "x = np.linspace(xmin, xmax, 100)\n",
        "p = distrib.pdf(x, *param)\n",
        "plt.plot(x, p, 'b', linewidth=2)\n",
        "\n",
        "data = b1\n",
        "param = distrib.fit(data)\n",
        "\n",
        "# Plot the histogram.\n",
        "plt.hist(data, bins=25, density=True, alpha=0.6, color='g')\n",
        "\n",
        "# Plot the PDF.\n",
        "xmin, xmax = plt.xlim()\n",
        "x = np.linspace(xmin, xmax, 100)\n",
        "p = distrib.pdf(x, *param)\n",
        "plt.plot(x, p, 'g', linewidth=2)\n",
        "\n",
        "title = \"Fit results for %s\" % distrib.name\n",
        "plt.title(title)\n",
        "\n",
        "plt.show()\n",
        "\n"
      ],
      "execution_count": 11,
      "outputs": [
        {
          "output_type": "display_data",
          "data": {
            "image/png": "[encoded data removed]",
            "text/plain": [
              "<Figure size 432x288 with 1 Axes>"
            ]
          },
          "metadata": {
            "tags": [],
            "needs_background": "light"
          }
        }
      ]
    },
    {
      "cell_type": "markdown",
      "metadata": {
        "id": "MSvEHlor1jmg"
      },
      "source": [
        "<div class=\"alert alert-block alert-success\">\n",
        "QUESTION: Quelle est la famille de distributions la plus simple pour décrire les données?\n",
        "</div>"
      ]
    },
    {
      "cell_type": "markdown",
      "metadata": {
        "id": "8ucMLTJM1jmk"
      },
      "source": [
        "**Réponse**\n",
        "\n",
        "Une famille simple vu l'allure des données est la famille des distributions gaussiennes, \"norm\" (globalement les données sont monomodales). "
      ]
    },
    {
      "cell_type": "markdown",
      "metadata": {
        "id": "4bEJa5Va1jmo"
      },
      "source": [
        "### Optimisation du modèle"
      ]
    },
    {
      "cell_type": "markdown",
      "metadata": {
        "id": "-t3vsMEQ1jmq"
      },
      "source": [
        "<div class=\"alert alert-block alert-info\">\n",
        "Ecrire une fonction d'estimation qui renvoie le modèle de distribution ou ses paramètres pour l'ensemble des lois conditionnelles. Ce sera le résultat de votre apprentissage! Appliquez-la sur les distributions de chacune des deux classes.\n",
        "</div>"
      ]
    },
    {
      "cell_type": "code",
      "metadata": {
        "scrolled": false,
        "id": "4dlLN8MU1jms"
      },
      "source": [
        "def build_model(data, distrib):\n",
        "# METTRE VOTRE CODE ICI\n",
        "    nfeat = data.shape[1]\n",
        "    params = []\n",
        "    for ifeat in range(nfeat):\n",
        "        par = distrib.fit(data[:,ifeat])\n",
        "        params.append(par)\n",
        "    return params\n",
        "\n",
        "distrib = norm\n",
        "\n",
        "param0 = build_model(X0, distrib)\n",
        "param1 = build_model(X1, distrib)\n"
      ],
      "execution_count": null,
      "outputs": []
    },
    {
      "cell_type": "markdown",
      "metadata": {
        "id": "u4JqKV_E1jm1"
      },
      "source": [
        "<div class=\"alert alert-block alert-info\">\n",
        "Ecrire une fonction 'compute_log_likelihood' qui prédit la classe à partir des données et des modèles de distributions en utilisant une approche bayésienne naïve:\n",
        "$$\\log P[y|\\mathbf{x}] \\propto \\sum_{i=1}^N \\log P[x_i|y] + \\log P[y]$$\n",
        "pour chacune des classes $y$ et une donnée à prédire $\\mathbf{x}$.\n",
        "</div>"
      ]
    },
    {
      "cell_type": "code",
      "metadata": {
        "scrolled": false,
        "id": "xKjwjgSS1jm5"
      },
      "source": [
        "def compute_log_likelihood(data, distrib, params):\n",
        "    # METTRE VOTRE CODE ICI\n",
        "    llk = np.zeros((1,data.shape[0]))\n",
        "    nfeat = data.shape[1]\n",
        "    for ifeat in range(nfeat):\n",
        "        llk = llk + distrib.logpdf(data[:,ifeat], *params[ifeat])\n",
        "    return llk\n"
      ],
      "execution_count": null,
      "outputs": []
    },
    {
      "cell_type": "markdown",
      "metadata": {
        "id": "qOx2Dtle1jnB"
      },
      "source": [
        "### Evaluation"
      ]
    },
    {
      "cell_type": "markdown",
      "metadata": {
        "id": "pvEAoGbV1jnC"
      },
      "source": [
        "<div class=\"alert alert-block alert-info\">\n",
        "Tester les performances du classifieur sur les données d'apprentissage et de test. Pour cela, écrivez une fonction de prédiction utilisant le modèle, appliquez-le sur les données de test et comparez aux vraies valeurs.\n",
        "</div>"
      ]
    },
    {
      "cell_type": "code",
      "metadata": {
        "scrolled": false,
        "id": "b5DA8JLq1jnE",
        "colab": {
          "base_uri": "https://localhost:8080/"
        },
        "outputId": "1560d460-3d79-4422-cb90-9efab42f612e"
      },
      "source": [
        "def predic_bayesien_naif(data, distrib, param0, param1):       \n",
        "    # METTRE VOTRE CODE ICI\n",
        "    llk0 = compute_log_likelihood(data, distrib, param0)\n",
        "    llk1 = compute_log_likelihood(data, distrib, param1)\n",
        "\n",
        "    dllk = llk0 - llk1\n",
        "\n",
        "    y_predic = (dllk < 0).astype('int')\n",
        "\n",
        "    return y_predic\n",
        "\n",
        "\n",
        "y_train_predic = predic_bayesien_naif(X_train, distrib, param0, param1)\n",
        "y_test_predic = predic_bayesien_naif(X_test, distrib, param0, param1)\n",
        "\n",
        "\n",
        "nerr_train = (y_train_predic != y_train).sum()\n",
        "nerr_test = (y_test_predic != y_test).sum()\n",
        "\n",
        "print(\"Taux d'erreur sur données de train = {:.1f}%\".format(100*nerr_train/X_train.shape[0]))\n",
        "print(\"Taux d'erreur sur données de test = {:.1f}%\".format(100*nerr_test/X_test.shape[0]))\n"
      ],
      "execution_count": null,
      "outputs": [
        {
          "output_type": "stream",
          "text": [
            "Taux d'erreur sur données de train = 15.3%\n",
            "Taux d'erreur sur données de test = 17.2%\n"
          ],
          "name": "stdout"
        }
      ]
    },
    {
      "cell_type": "markdown",
      "metadata": {
        "id": "RHXzyY-11jnM"
      },
      "source": [
        "<div class=\"alert alert-block alert-success\">\n",
        "QUESTION: Expliquez les différences des valeurs de performance entre ensembles d'apprentissage et de test.\n",
        "</div>"
      ]
    },
    {
      "cell_type": "markdown",
      "metadata": {
        "id": "LFSlB7An1jnP"
      },
      "source": [
        "**Réponse**\n",
        "\n",
        "Le modèle est appris sur des données en petit nombre, et est donc imprécis."
      ]
    },
    {
      "cell_type": "markdown",
      "metadata": {
        "id": "uory3Rfr1jnQ"
      },
      "source": [
        "## Activité 1.2: plus proches voisins\n",
        "On va reproduire la séquence d'activité précédente en développant une approche de type 'plus proches voisins', et la valider sur le même jeu de données."
      ]
    },
    {
      "cell_type": "markdown",
      "metadata": {
        "id": "4I4NF7yr1jnS"
      },
      "source": [
        "### Choix du modèle"
      ]
    },
    {
      "cell_type": "markdown",
      "metadata": {
        "id": "jI7Nvrvi1jnV"
      },
      "source": [
        "\n",
        "<div class=\"alert alert-block alert-info\">\n",
        "Les principaux paramètres du modèle sont le type de distance ou de mesure de similarité, et le nombre de voisins à utiliser pour prendre une décision.\n",
        "</div>"
      ]
    },
    {
      "cell_type": "code",
      "metadata": {
        "id": "3S_iOTi41jnZ"
      },
      "source": [
        "# Choix de la distance de similarité\n",
        "dist_name = 'euclidean'\n",
        "\n",
        "# Choix du nombre de voisins\n",
        "k = 5"
      ],
      "execution_count": null,
      "outputs": []
    },
    {
      "cell_type": "markdown",
      "metadata": {
        "id": "CpXtMFS31jne"
      },
      "source": [
        "### Optimisation"
      ]
    },
    {
      "cell_type": "markdown",
      "metadata": {
        "id": "Y-gx5FXS1jnh"
      },
      "source": [
        "\n",
        "<div class=\"alert alert-block alert-info\">\n",
        "L'apprentissage d'une approche 'plus proches voisins' consiste simplement à collecter les exemples d'apprentissage et leurs classes.\n",
        "</div>"
      ]
    },
    {
      "cell_type": "code",
      "metadata": {
        "id": "CQsR5kaj1jni"
      },
      "source": [
        "# Apprentissage\n",
        "Bdd_samples = X_train\n",
        "Bdd_classes = y_train"
      ],
      "execution_count": null,
      "outputs": []
    },
    {
      "cell_type": "markdown",
      "metadata": {
        "id": "An8FrMYb1jnr"
      },
      "source": [
        "### Evaluation"
      ]
    },
    {
      "cell_type": "markdown",
      "metadata": {
        "id": "XRBwJId71jnt"
      },
      "source": [
        "\n",
        "<div class=\"alert alert-block alert-info\">\n",
        "L'évaluation consiste à vérifier que la fonction de prédiction appliquée sur le jeu de test produit des classes identiques à la vérité terrain. \n",
        "<br><br>\n",
        "Ecrivez le corps de la fonction de prédiction 'predic_kNN' prenant en entrée l'ensemble de test, et les paramètres de l'algorithme du plus proche voisin. \n",
        "<br><br>\n",
        "Vous pouvez utiliser les fonctions de calcul de matrices de similarité <a href=https://docs.scipy.org/doc/scipy/reference/generated/scipy.spatial.distance.cdist.html>cdist</a>, les fonctions de tri de numpy <a href=https://docs.scipy.org/doc/numpy/reference/generated/numpy.argsort.html>argsort</a> et les fonctions de statistiques sur des collections implémentées directement en Python dans la classe <a href=https://docs.python.org/3/library/collections.html#collections.Counter>Counter</a>. Avec ces fonctions, l'algorithme peut tenir en moins de 10 lignes.\n",
        "</div>"
      ]
    },
    {
      "cell_type": "code",
      "metadata": {
        "scrolled": false,
        "id": "LfLLP3Ov1jnv",
        "colab": {
          "base_uri": "https://localhost:8080/"
        },
        "outputId": "f1d3f217-d120-4b87-ff06-2a75ee8754ef"
      },
      "source": [
        "\n",
        "### Calcul de la distance\n",
        "\n",
        "from scipy.spatial import distance\n",
        "from collections import Counter\n",
        "\n",
        "def predic_kNN(X_test, samples, classes, dist_name, k):\n",
        "    # METTRE VOTRE CODE ICI\n",
        "    \n",
        "    # distance entre exemples de tests et exemples d'apprentissage\n",
        "    S = distance.cdist(X_test, samples, dist_name)\n",
        "\n",
        "    # ordonne les examples par ordre croissant de distance\n",
        "    NN = np.argsort(S)\n",
        "\n",
        "    # Trouve les étiquettes pour chaque voisin\n",
        "    yNN_predic = classes[NN[:,:k]].astype('int')\n",
        "\n",
        "    # Vote majoritaire: uniquement valable pour les problèmes à deux classes\n",
        "    #y_predic = (2*yNN_predic.sum(axis=1) > k).astype('int')\n",
        "\n",
        "    # Vote majoritaire générique\n",
        "    y_predic = []\n",
        "    for itest in range(yNN_predic.shape[0]):\n",
        "        y_predic.append(Counter(yNN_predic[itest,:]).most_common(1)[0][0])\n",
        "        \n",
        "    return y_predic\n",
        "\n",
        "y_predic = predic_kNN(X_test, Bdd_samples, Bdd_classes, dist_name, k)\n",
        "nerr = (y_predic != y_test).sum()\n",
        "\n",
        "print(\"Taux d'erreur de test {:.1f}%\".format(100*nerr/X_test.shape[0]))"
      ],
      "execution_count": null,
      "outputs": [
        {
          "output_type": "stream",
          "text": [
            "Taux d'erreur de test 1.0%\n"
          ],
          "name": "stdout"
        }
      ]
    },
    {
      "cell_type": "markdown",
      "metadata": {
        "id": "2RIbCaQf1jn6"
      },
      "source": [
        "<div class=\"alert alert-block alert-success\">\n",
        "QUESTION: quelles sont les différences principales par rapport au modèle précédent (Bayésien naïf)?\n",
        "</div>"
      ]
    },
    {
      "cell_type": "markdown",
      "metadata": {
        "id": "aVr-M-jz1joF"
      },
      "source": [
        "**Réponse**\n",
        "\n",
        "Phase d'apprentissage réduite, temps de calcul plus long, performances meilleures (prise en compte des corrélations entre caractéristiques dans la distance). "
      ]
    },
    {
      "cell_type": "markdown",
      "metadata": {
        "collapsed": true,
        "id": "cNBDME0i1joG"
      },
      "source": [
        "___\n",
        "# Partie 2 : Utilisation de scikit-learn\n",
        "___\n",
        "\n",
        "\n",
        "On se propose dans cette partie d'utiliser la librarie [scikit-learn](http://scikit-learn.org/stable/modules/classes.html) qui contient un rand nombre d'algorithmes d'apprentissage et une interface facile d'utilisation, divisée en deux types de fonctionnalités: 'fit' et 'predict'.\n",
        "\n",
        "Le nouveau problème d'apprentissage est une classification binaire de textes en provenance de [newsgroups](https://en.wikipedia.org/wiki/Usenet_newsgroup), c'est-à-dire des forums de discussion sur une certaine thématique. L'objectif de la classification est de prédire le groupe où le document a été posté uniquement à partir du texte. \n",
        "\n",
        "Une première étape de mise en forme des données sous forme vectorielle a été réalisée et utilise une technique de \"sac de mots\" ([\"bag of words\"](https://en.wikipedia.org/wiki/Bag-of-words_model) en anglais). Les données sont de grande taille, mais très creuses (beaucoup de valeurs nulles par échantillon)."
      ]
    },
    {
      "cell_type": "markdown",
      "metadata": {
        "id": "hNzAiMIg1joH"
      },
      "source": [
        "<div class=\"alert alert-block alert-info\">\n",
        "\n",
        "Chargez les données visualisez quelques exemples. Calculez le nombre moyen de valeurs non nulles par échantillon.\n",
        "\n",
        "</div>"
      ]
    },
    {
      "cell_type": "code",
      "metadata": {
        "scrolled": true,
        "id": "1UEp2Ewi1joL",
        "colab": {
          "base_uri": "https://localhost:8080/"
        },
        "outputId": "71f2c9d9-1541-4707-9284-57b564705fcf"
      },
      "source": [
        "## Lecture des données\n",
        "#class0 = 3 #'comp.sys.ibm.pc.hardware',\n",
        "#class1 = 4 #'comp.sys.mac.hardware'\n",
        "\n",
        "class0 = 13 # 'sci.med'\n",
        "class1 = 14 # 'sci.space'\n",
        "\n",
        "\n",
        "npzfile = np.load(TD_DIR+'2newsgroup_{:d}_{:d}.npz'.format(class0,class1),allow_pickle=True)\n",
        "X = npzfile['arr_0'].tolist().todense()\n",
        "\n",
        "y = X[:,-1].getA1()\n",
        "X = X[:,:-1]\n",
        "\n",
        "X_train, X_test, y_train, y_test = train_test_split(X, y,\n",
        "                                                    random_state=42,\n",
        "                                                    stratify=y,\n",
        "                                                    test_size=0.3)\n",
        "\n",
        "print(\"Les données sont de dimension {:d}\".format(X_train.shape[1]))\n",
        "print(\"Le nombre de données d'apprentissage est {:d}\".format(y_train.shape[0]))\n",
        "\n",
        "# METTRE VOTRE CODE ICI\n",
        "non_nul_moyen = np.mean(np.sum(X_train > 0,axis=1))\n",
        "print(\"Le nombre moyen de valeurs non nulles par échantillon est {:.1f}\".format(non_nul_moyen))\n"
      ],
      "execution_count": null,
      "outputs": [
        {
          "output_type": "stream",
          "text": [
            "Les données sont de dimension 24412\n",
            "Le nombre de données d'apprentissage est 1383\n",
            "Le nombre moyen de valeurs non nulles par échantillon est 103.8\n"
          ],
          "name": "stdout"
        }
      ]
    },
    {
      "cell_type": "markdown",
      "metadata": {
        "id": "9wP0Qq2F1joX"
      },
      "source": [
        "## Activité 2.1: bayésien naïf"
      ]
    },
    {
      "cell_type": "markdown",
      "metadata": {
        "id": "uVikg4Us1joZ"
      },
      "source": [
        "<div class=\"alert alert-block alert-info\">\n",
        "\n",
        "La bibliothèque propose une version de l'algorithme [bayésien naif](http://scikit-learn.org/stable/modules/classes.html#module-sklearn.naive_bayes) avec plusieurs types de modèles de distributions de probabilités. Quel est le modèle plus adapté au problème parmi les trois proposés?\n",
        "\n",
        "<br><br>\n",
        "\n",
        "Ecrivez ensuite la démarche générique d'apprentissage à partir de la bibliothèque scikit-learn.\n",
        "</div>"
      ]
    },
    {
      "cell_type": "code",
      "metadata": {
        "scrolled": false,
        "id": "hO4806Tr1jod",
        "colab": {
          "base_uri": "https://localhost:8080/"
        },
        "outputId": "2bf02c30-df78-480c-a79e-81736532e052"
      },
      "source": [
        "from sklearn.naive_bayes import BernoulliNB, GaussianNB, MultinomialNB\n",
        "\n",
        "# METTRE VOTRE CODE ICI\n",
        "\n",
        "bayes = BernoulliNB(binarize=0.0001)\n",
        "bayes.fit(X_train, y_train)\n",
        "y_predic = bayes.predict(X_test)\n",
        "\n",
        "nerr = (y_predic != y_test.ravel()).sum()\n",
        "\n",
        "print(\"Taux d'erreur NN = {:.1f}%\".format(100*nerr/y_test.shape[0]))\n"
      ],
      "execution_count": null,
      "outputs": [
        {
          "output_type": "stream",
          "text": [
            "Taux d'erreur NN = 6.4%\n"
          ],
          "name": "stdout"
        }
      ]
    },
    {
      "cell_type": "markdown",
      "metadata": {
        "id": "nleGhqci1joo"
      },
      "source": [
        "## Activité 2.2: Plus proche voisin"
      ]
    },
    {
      "cell_type": "markdown",
      "metadata": {
        "id": "vSocDd3g1jor"
      },
      "source": [
        "\n",
        "<div class=\"alert alert-block alert-info\">\n",
        "\n",
        "La bibliothèque scikit-learn propose une version de l'algorithme de classification par [k plus proches voisins](http://scikit-learn.org/stable/modules/generated/sklearn.neighbors.KNeighborsClassifier.html#sklearn.neighbors.KNeighborsClassifier) avec plusieurs paramétrages possibles.\n",
        "\n",
        "<br>\n",
        "Ecrivez la démarche générique d'apprentissage à partir cette bibliothèque, et testez plusieurs paramètres pour améliorer les performances. \n",
        "\n",
        "<br><br>\n",
        "ATTENTION: les calculs peuvent être plus longs que pour les exemples précédents. Une possibilité est de limiter la taille de la base de donnée pour sélectionner les bonnes configurations.\n",
        "\n",
        "</div>"
      ]
    },
    {
      "cell_type": "code",
      "metadata": {
        "id": "4sFCv32I1jow",
        "colab": {
          "base_uri": "https://localhost:8080/"
        },
        "outputId": "1caf44e3-d631-4cf9-b61d-b524ad65036c"
      },
      "source": [
        "from sklearn.neighbors import KNeighborsClassifier\n",
        "import timeit\n",
        "\n",
        "tic = timeit.default_timer();  \n",
        "\n",
        "# METTRE VOTRE CODE ICI\n",
        "\n",
        "neigh = KNeighborsClassifier(n_neighbors=8, weights='distance', algorithm='kd_tree', metric='l2')\n",
        "neigh.fit(X_train, y_train)\n",
        "y_predic = neigh.predict(X_test)\n",
        "\n",
        "\n",
        "\n",
        "toc = timeit.default_timer()\n",
        "print(\"Temps d'execution = {:.3g} s\".format(toc-tic))\n",
        "\n",
        "nerr = (y_predic != y_test.ravel()).sum()\n",
        "\n",
        "print(\"Taux d'erreur NN = {:.1f}%\".format(100*nerr/y_test.shape[0]))\n"
      ],
      "execution_count": null,
      "outputs": [
        {
          "output_type": "stream",
          "text": [
            "Temps d'execution = 46.7 s\n",
            "Taux d'erreur NN = 32.8%\n"
          ],
          "name": "stdout"
        }
      ]
    },
    {
      "cell_type": "code",
      "metadata": {
        "id": "cUDxvc6A1jpH"
      },
      "source": [
        ""
      ],
      "execution_count": null,
      "outputs": []
    }
  ]
}