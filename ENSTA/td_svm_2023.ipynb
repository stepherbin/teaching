{
  "cells": [
    {
      "cell_type": "markdown",
      "metadata": {
        "id": "phu2ayWDLnu2"
      },
      "source": [
        "# TD: Classification supervisée et SVM\n",
        "\n",
        "L'énoncé du TD-notebook constitue la base du compte-rendu. Répondez aux questions dans le document et copiez les lignes de code qui ont produit les résultats aux endroits indiqués.\n",
        "\n",
        "Le TD comprend 2 parties:\n",
        "* Une prise de contact avec l'algorithme SVM et ses paramètres pour la classification binaire;\n",
        "* Classification multi-classe, et application à la reconnaissance de chiffres manuscrits.\n"
      ]
    },
    {
      "cell_type": "markdown",
      "metadata": {
        "id": "Lapuy2ipLnu7"
      },
      "source": [
        "## Partie 1: Classification binaire avec SVM\n",
        "\n",
        "On se propose dans cette première partie d'évaluer l'influence des différents paramètres d'apprentissage des SVM, et de développer une démarche permettant de les choisir en fonction de la nature de la distribution des données. On ne testera dans cette première partie que des distributions 2D pour visualiser les phénomènes.\n",
        "\n",
        "Les calculs utiliseront la bibliothèque de Machine Learning [scikit-learn](http://scikit-learn.org/stable/modules/classes.html).\n",
        "\n",
        "Chaque jeu de données est constitué de quatre ensembles :\n",
        "* Un ensemble de données test utilisées pour l'apprentissage : trainX\n",
        "* Un ensemble de classes associées aux données d'apprentissage : trainY\n",
        "* Un ensemble de données à tester : testX\n",
        "* Un ensemble de classes associées aux données de test : testY\n",
        "\n",
        "Ils sont générés par la fonction :\n",
        "\n",
        ">```python\n",
        "trainX, trainY, testX, testY = td.generate_data(family_number)\n",
        "```\n",
        "\n",
        "où family_number est un nombre entre 0 et 3. Chaque famille de données est caractérisée par une distribution différente.\n",
        "\n",
        "On peut la visualiser par la fonction (déjà vue) :\n",
        "\n",
        ">```python\n",
        "td.show_data_2D(trainX, trainY)\n",
        "```\n",
        "\n",
        "L'objectif est d'optimiser les paramètres des SVM pour construire un classifieur capable de prédire les classes des données de test.\n",
        "\n",
        "Dans la bibliothèque scikit-learn, l'algorithme standard des SVM pour la classification est utilisable à travers la classe [`sklearn.svm.SVC`](http://scikit-learn.org/stable/modules/generated/sklearn.svm.SVC.html#sklearn.svm.SVC)\n",
        "\n",
        "On retrouve la structure déjà utilisée dans les TD précédents:\n",
        "* La définition des paramètres (par le consructeur de classe).\n",
        "* Le calcul de l'hyperplan: `fit`\n",
        "* La prédiction de classe pour de nouvelles données: `predict`\n",
        "* Le calcul d'erreur de prédiction: `score`\n",
        "\n",
        "Le classifieur peut être visualisé par la fonction :\n",
        ">```python\n",
        "td.plot_svc_decision_function(classifier)\n",
        "```\n",
        "\n",
        "Remarque: Pour visualiser dans le notebook, appliquer l'instruction:\n",
        ">```python\n",
        "plt.show()\n",
        "```\n",
        "\n",
        "après chaque fonction de visualisation.\n"
      ]
    },
    {
      "cell_type": "markdown",
      "metadata": {
        "id": "vwQFTnITLnu-"
      },
      "source": [
        "### Activité 1.1 : Mon premier classifieur.\n",
        "\n",
        "\n",
        "Repérer les paramètres utiles des fonctions et la manière de les utiliser.\n",
        "\n",
        "Lancer une première chaîne de calcul pour apprendre un classifieur linéaire pour le jeu de données 0 et des valeurs par défaut.\n",
        "\n",
        "Visualiser les résultats et calculer l’erreur sur les jeux d’apprentissage et de test avec la fonction `score`.\n",
        "\n",
        "Recommencer la séquence d'apprentissage avec les autres distributions de données (1 à 3).\n"
      ]
    },
    {
      "cell_type": "code",
      "execution_count": 1,
      "metadata": {
        "colab": {
          "base_uri": "https://localhost:8080/"
        },
        "id": "FwDn-M1TOe5V",
        "outputId": "31b53bf8-bffd-40dc-903c-0f2fab051077"
      },
      "outputs": [
        {
          "name": "stdout",
          "output_type": "stream",
          "text": [
            "--2023-11-20 16:20:15--  https://raw.githubusercontent.com/stepherbin/teaching/master/ENSTA/MI201/td_util.py\n",
            "Resolving raw.githubusercontent.com (raw.githubusercontent.com)... 185.199.111.133, 185.199.109.133, 185.199.108.133, ...\n",
            "Connecting to raw.githubusercontent.com (raw.githubusercontent.com)|185.199.111.133|:443... connected.\n",
            "HTTP request sent, awaiting response... 200 OK\n",
            "Length: 8835 (8.6K) [text/plain]\n",
            "Saving to: ‘td_util.py’\n",
            "\n",
            "td_util.py          100%[===================>]   8.63K  --.-KB/s    in 0s      \n",
            "\n",
            "2023-11-20 16:20:15 (58.2 MB/s) - ‘td_util.py’ saved [8835/8835]\n",
            "\n"
          ]
        }
      ],
      "source": [
        "# Exécuter la fonction suivante pour charger les fonctions de visualisation et le générateur de données\n",
        "!wget https://raw.githubusercontent.com/stepherbin/teaching/master/ENSTA/td_util.py"
      ]
    },
    {
      "cell_type": "code",
      "execution_count": null,
      "metadata": {
        "id": "0C0VYpZ8LnvE"
      },
      "outputs": [],
      "source": [
        "# Librairies utiles standard\n",
        "import numpy as np\n",
        "import matplotlib.pyplot as plt\n",
        "\n",
        "# L'algorithme SVM dans la bibliothèque scikit-learn\n",
        "from sklearn import svm\n",
        "\n",
        "# Pour visualiser et récupérer les données\n",
        "import td_util as td\n",
        "\n",
        "import random"
      ]
    },
    {
      "cell_type": "code",
      "execution_count": null,
      "metadata": {
        "colab": {
          "base_uri": "https://localhost:8080/",
          "height": 545
        },
        "id": "2d9aK7y8LnvM",
        "outputId": "4681d97e-bb38-418b-d757-bedd7b240e8b",
        "scrolled": false
      },
      "outputs": [
        {
          "name": "stdout",
          "output_type": "stream",
          "text": [
            "Gaussian two class isovariance samples\n"
          ]
        },
        {
          "data": {
            "image/png": "[encoded data removed]",
            "text/plain": [
              "<Figure size 800x600 with 1 Axes>"
            ]
          },
          "metadata": {},
          "output_type": "display_data"
        }
      ],
      "source": [
        "# Classifieur\n",
        "svc = svm.SVC(kernel='linear', max_iter=-1)\n",
        "\n",
        "# Premier jeu de données\n",
        "trainX, trainY, testX, testY=td.generate_data(0)\n",
        "\n",
        "td.show_data_2D(trainX,trainY)\n",
        "plt.show()"
      ]
    },
    {
      "cell_type": "code",
      "execution_count": null,
      "metadata": {
        "colab": {
          "base_uri": "https://localhost:8080/",
          "height": 239
        },
        "id": "BU1b7IZCLnvY",
        "outputId": "6ba7f227-cb65-4640-d0ee-f628eb6f422d",
        "scrolled": false
      },
      "outputs": [
        {
          "ename": "NameError",
          "evalue": "ignored",
          "output_type": "error",
          "traceback": [
            "\u001b[0;31m---------------------------------------------------------------------------\u001b[0m",
            "\u001b[0;31mNameError\u001b[0m                                 Traceback (most recent call last)",
            "\u001b[0;32m<ipython-input-6-e5a245729c39>\u001b[0m in \u001b[0;36m<cell line: 6>\u001b[0;34m()\u001b[0m\n\u001b[1;32m      4\u001b[0m \u001b[0;31m######################\u001b[0m\u001b[0;34m\u001b[0m\u001b[0;34m\u001b[0m\u001b[0m\n\u001b[1;32m      5\u001b[0m \u001b[0;34m\u001b[0m\u001b[0m\n\u001b[0;32m----> 6\u001b[0;31m \u001b[0mscore_train\u001b[0m \u001b[0;34m=\u001b[0m \u001b[0mzzz\u001b[0m \u001b[0;31m# à remplir\u001b[0m\u001b[0;34m\u001b[0m\u001b[0;34m\u001b[0m\u001b[0m\n\u001b[0m\u001b[1;32m      7\u001b[0m \u001b[0mprint\u001b[0m\u001b[0;34m(\u001b[0m\u001b[0;34m\"Erreur d'apprentissage = {:.1f}%\"\u001b[0m\u001b[0;34m.\u001b[0m\u001b[0mformat\u001b[0m\u001b[0;34m(\u001b[0m\u001b[0;34m(\u001b[0m\u001b[0;36m1\u001b[0m\u001b[0;34m-\u001b[0m\u001b[0mscore_train\u001b[0m\u001b[0;34m)\u001b[0m\u001b[0;34m*\u001b[0m\u001b[0;36m100\u001b[0m\u001b[0;34m)\u001b[0m\u001b[0;34m)\u001b[0m\u001b[0;34m\u001b[0m\u001b[0;34m\u001b[0m\u001b[0m\n\u001b[1;32m      8\u001b[0m \u001b[0;34m\u001b[0m\u001b[0m\n",
            "\u001b[0;31mNameError\u001b[0m: name 'zzz' is not defined"
          ]
        }
      ],
      "source": [
        "#######################\n",
        "# METTRE VOTRE CODE ICI\n",
        "\n",
        "######################\n",
        "\n",
        "score_train = zzz # à remplir\n",
        "print(\"Erreur d'apprentissage = {:.1f}%\".format((1-score_train)*100))\n",
        "\n",
        "score_test = zzz # à remplir\n",
        "print(\"Erreur de test = {:.1f}%\".format((1-score_test)*100))\n"
      ]
    },
    {
      "cell_type": "markdown",
      "metadata": {
        "id": "3d30jhXDLnvg"
      },
      "source": [
        "Recommencer la séquence d'apprentissage avec les autres distributions de données (1 à 3).\n"
      ]
    },
    {
      "cell_type": "code",
      "execution_count": null,
      "metadata": {
        "id": "nNmY63XkLnvi",
        "scrolled": false
      },
      "outputs": [],
      "source": [
        "for itest in [1,2,3]:\n",
        "    trainX, trainY, testX, testY=td.generate_data(itest)\n",
        "\n",
        "    ##########################\n",
        "    # METTRE VOTRE CODE ICI\n"
      ]
    },
    {
      "cell_type": "markdown",
      "metadata": {
        "id": "U5Sse0KZLnvp"
      },
      "source": [
        "<div class=\"alert alert-block alert-success\">\n",
        "QUESTION: Expliquez les différences de comportement du classifieur.\n",
        "</div>"
      ]
    },
    {
      "cell_type": "markdown",
      "metadata": {
        "id": "SF1i0pcSLnvs"
      },
      "source": [
        "**Réponse**\n",
        "\n",
        "Certaines distributions de données ne sont pas linéairement séparables (données 2 et 3). Le noyau linéaire des SVM n'est alors pas adapté. La distribution 3 produit une erreur proche du taux maximal pour la discrimination de 2 classes (50%)."
      ]
    },
    {
      "cell_type": "markdown",
      "metadata": {
        "id": "xlBaVsqnLnvy"
      },
      "source": [
        "### Activité 1.2: Influence du noyau\n",
        "\n",
        "Repérer comment spécifier le type de noyau utilisé, et ses paramètres.\n",
        "\n",
        "Reprendre l'étude précédente en jouant sur le type de noyau et sur ses paramètres.\n",
        "\n",
        "Illustrer les différences en utilisant la fonction de visualisation `td.plot_svc_decision_function`.\n"
      ]
    },
    {
      "cell_type": "code",
      "execution_count": null,
      "metadata": {
        "id": "FYBKDMorLnvz",
        "scrolled": false
      },
      "outputs": [],
      "source": [
        "for itest in [1,2,3]:\n",
        "    trainX, trainY, testX, testY=td.generate_data(itest)\n",
        "\n",
        "    #####################################\n",
        "    # METTRE VOTRE CODE ICI\n"
      ]
    },
    {
      "cell_type": "markdown",
      "metadata": {
        "id": "6NftfhRQLnv9"
      },
      "source": [
        "<div class=\"alert alert-block alert-success\">\n",
        "QUESTION: Commentez les différences de comportement du classifieur.\n",
        "</div>"
      ]
    },
    {
      "cell_type": "markdown",
      "metadata": {
        "id": "ykdtjWckLnwC"
      },
      "source": [
        "**Réponse**\n",
        "\n",
        "Certains noyaux permettent d'obtenir une meilleure discrimination que d'autres, avec le paramétrage par défaut. Le noyau 'RBF' semble le plus polyvalent sur les distributions étudiées. Le noyau 'sigmoid' le moins stable."
      ]
    },
    {
      "cell_type": "markdown",
      "metadata": {
        "id": "r2BoEQ__LnwI"
      },
      "source": [
        "### Activité 1.3 : Influence des paramètres de régularisation\n",
        "\n",
        "Nous étudions ici comment l'algorithme SVM est capable de gérer la présence de données aberrantes (\"outliers\" en anglais) en jouant sur ses paramètres de généralisation.\n",
        "\n",
        "On génère différents niveaux de bruit en spécifiant le paramètre `noise` (entre 0 et 1) dans la fonction de génération de données:\n",
        "\n",
        ">```python td.generate_data(family_number, noise=0.1) ```\n",
        "\n",
        "Repérer le paramètre à spécifier pour fixer le paramètre de régularisation.\n",
        "\n",
        "Etudier l'influence de ce paramètre sur le jeu de données 2 avec un noyau \"rbf\" en produisant différents résultats de classification (visualisation et erreur sur ensemble de test), et différentes valeurs de bruit.\n"
      ]
    },
    {
      "cell_type": "code",
      "execution_count": null,
      "metadata": {
        "id": "1fsk9draLnwL",
        "scrolled": false
      },
      "outputs": [],
      "source": [
        "trainX, trainY, testX, testY=td.generate_data(2, noise=0.05, seed=10)\n",
        "\n",
        "# valeurs de C\n",
        "Clist= [0.01,0.1,1,10,100]\n",
        "\n",
        "for Cval in Clist:\n",
        "###########################\n",
        "# METTRE VOTRE CODE ICI\n"
      ]
    },
    {
      "cell_type": "markdown",
      "metadata": {
        "id": "qBsiCIRoyVYe"
      },
      "source": [
        "\n",
        "Reproduisez les courbes montrant les écarts entre apprentissage et test pour différents paramètres de **régularisation**.\n"
      ]
    },
    {
      "cell_type": "code",
      "execution_count": null,
      "metadata": {
        "id": "iXrMOKzYxWPE"
      },
      "outputs": [],
      "source": [
        "fig, ax = plt.subplots()\n",
        "\n",
        "trainX, trainY, testX, testY=td.generate_data(2, noise=0.2, seed = 10)\n",
        "\n",
        "Clist=np.logspace(-2,1,20)\n",
        "\n",
        "score_test=[]\n",
        "score_train=[]\n",
        "\n",
        "###########################\n",
        "# METTRE VOTRE CODE ICI\n",
        "\n",
        "\n",
        "#############################\n",
        "\n",
        "ax.semilogx(Clist,1-np.array(score_train),label='learn')\n",
        "ax.semilogx(Clist,1-np.array(score_test),label='test')\n",
        "\n",
        "plt.title('Différence entre apprentissage et test')\n",
        "plt.legend()\n",
        "plt.show()\n"
      ]
    },
    {
      "cell_type": "markdown",
      "metadata": {
        "id": "5ForLtzeLnwc"
      },
      "source": [
        "### Activité 1.4: Optimisation des paramètres par validation croisée"
      ]
    },
    {
      "cell_type": "markdown",
      "metadata": {
        "id": "5_aMq0RXLnwf"
      },
      "source": [
        "\n",
        "\n",
        "On cherche les meilleurs paramètres adaptés aux données, sans utiliser les données de test. On se propose ici d'utiliser une méthode systématique de recherche par validation croisée.\n",
        "\n",
        "L'environnement scikit-learn permet d'automatiser cette recherche en utilisant la classe [GridSearchCV](http://scikit-learn.org/stable/modules/generated/sklearn.model_selection.GridSearchCV.html).\n",
        "\n",
        "Le principe d'utilisation de cette classe est d'estimer l'erreur de généralisation par validation croisée sur une grille de paramètres. Cette grille est définie comme un `dict` (ou une `list` de `dict`) où chaque clé contient une liste de paramètres. L'appel à la méthode `fit` sur le classifieur estime les performances sur l'ensemble des configurations possibles:\n",
        "\n",
        "\n",
        ">```python clf = GridSearchCV(svc, parameter_dict) ```\n",
        "\n",
        ">```python clf.fit(trainX, trainY) ```\n",
        "\n",
        "\n",
        "Utiliser cette classe pour trouver la meilleure combinaison de paramètres (noyau, paramètres du noyau, coefficient de régularisation) pour les jeux de données 2 et 3.\n",
        "\n",
        "A l'issue de l'étape de recherche des hyperparamètres par validation croisée, le meilleur préditeur est placé dans la variabe `best_estimator_` de la classe\n",
        "`GridSearchCV`.\n"
      ]
    },
    {
      "cell_type": "code",
      "execution_count": null,
      "metadata": {
        "id": "Yj6AhGXOLnwh",
        "scrolled": false
      },
      "outputs": [],
      "source": [
        "# Import de la classe pour Validation Croisée\n",
        "from sklearn.model_selection import GridSearchCV\n",
        "\n",
        "svc = svm.SVC(shrinking=True,max_iter=1000000,gamma='auto') # max_iter = 1000000 pour limiter les non convergences de l'optimiseur\n",
        "\n",
        "for itest in [2,3]:\n",
        "    trainX, trainY, testX, testY=td.generate_data(itest, noise=0.1)\n",
        "\n",
        "    ################################\"\"\n",
        "    # METTRE VOTRE CODE ICI\n"
      ]
    },
    {
      "cell_type": "markdown",
      "metadata": {
        "collapsed": true,
        "id": "toDaO6zPLnwq"
      },
      "source": [
        "<div class=\"alert alert-block alert-success\">\n",
        "QUESTION: Quelles configurations de paramètres optimales obtenez-vous?\n",
        "</div>"
      ]
    },
    {
      "cell_type": "markdown",
      "metadata": {
        "id": "2-3AaxHhLnws"
      },
      "source": [
        "**Réponse**\n"
      ]
    },
    {
      "cell_type": "markdown",
      "metadata": {
        "collapsed": true,
        "id": "0bgyOHt0Lnwt"
      },
      "source": [
        "## Partie 2 : multi-classe avec SVM\n",
        "\n",
        "Dans cette partie, l'objectif est de discriminer les données en plusieurs classes. Comme indiqué dans le cours, deux stratégies principales sont couramment utilisées: un contre un (\"one vs. one\") ou un contre les autres (\"one vs. rest\"). L'environnement scikit-learn contient une sur-classe [`multiclass`](http://scikit-learn.org/stable/modules/classes.html#module-sklearn.multiclass) capable de gérer ces deux types de stratégies.\n",
        "\n",
        "\n",
        "Dans le cas des problèmes multi-classe, les performances sont usuellement évaluées sous la forme de [matrices de confusion](http://scikit-learn.org/stable/modules/generated/sklearn.metrics.confusion_matrix.html).\n"
      ]
    },
    {
      "cell_type": "markdown",
      "metadata": {
        "id": "4LGa3XsbLnwv"
      },
      "source": [
        "### Activité 2.1: stratégies de classification multi-classe"
      ]
    },
    {
      "cell_type": "markdown",
      "metadata": {
        "id": "BSZ9RLXsLnww"
      },
      "source": [
        "\n",
        "Comparez les deux stratégies multi-classe `OneVsOne` et `OneVsRest` sur les données du jeu de test 4 et un noyau polynomial. Utilisez pour cela la sur-classe `multiclass`, et fournir les matrices de confusion de la classification.\n",
        "\n"
      ]
    },
    {
      "cell_type": "code",
      "execution_count": null,
      "metadata": {
        "id": "tiBwq2YXLnwy",
        "scrolled": true
      },
      "outputs": [],
      "source": [
        "# Utilisation des deux stratégies multi-classe (\"one vs. one\", \"one vs. rest\")\n",
        "from sklearn.multiclass import OneVsOneClassifier, OneVsRestClassifier\n",
        "\n",
        "# Pour calculer une matrice de confusion\n",
        "from sklearn.metrics import confusion_matrix\n",
        "\n",
        "trainX, trainY, testX, testY=td.generate_data(4)\n",
        "\n",
        "svc = svm.SVC(C=0.1, kernel='poly', degree=2, max_iter=10000, gamma='auto')\n"
      ]
    },
    {
      "cell_type": "code",
      "execution_count": null,
      "metadata": {
        "id": "L2ZF1C5rLnw8",
        "scrolled": false
      },
      "outputs": [],
      "source": [
        "#######################\"\"\n",
        "# METTRE VOTRE CODE ICI\n",
        "\n",
        "\n"
      ]
    },
    {
      "cell_type": "markdown",
      "metadata": {
        "id": "ZCQ8WQAfLnxI"
      },
      "source": [
        "<div class=\"alert alert-block alert-success\">\n",
        "QUESTION: Commentez les différences de comportement du classifieur.\n",
        "</div>"
      ]
    },
    {
      "cell_type": "markdown",
      "metadata": {
        "id": "xec7pbqkLnxJ"
      },
      "source": [
        "**Réponse**\n",
        "\n",
        "La répartition des données diffère selon les classes. Certaines classes ont deux modes, intriqués avec les autres distributions. Dans ce cas de figure, la stratégie \"un contre un\" semble la plus efficace (légèrement) car elle permet de mieux spécialiser les classifieurs à chaque type de difficulté."
      ]
    },
    {
      "cell_type": "markdown",
      "metadata": {
        "id": "Gykp6qwZLnxQ"
      },
      "source": [
        "### Activité 2.2: classification de chiffres manuscrits"
      ]
    },
    {
      "cell_type": "markdown",
      "metadata": {
        "id": "KYJMzLA5LnxS"
      },
      "source": [
        "\n",
        "On dispose d’un ensemble d’images de données de chiffres manuscrits. L’objectif de cette partie est de se mettre dans les conditions d’une compétition de reconnaissance des formes pour produire les meilleures performances sur l’ensemble de test pour lequel on ne connaît pas la vraie classe (« vérité terrain » = ground truth en anglais). Dans le cadre de ce TD, et pour situer le niveau de performances, on évaluera les classifieurs sur la base de test, mais elle ne devra pas être utilisée pour l'apprentissage.\n",
        "\n",
        "Définissez une stratégie de recherche de paramètres par validation croisée sur les noyaux et leurs paramètres. Rem: on peut obtenir plus de 95% de reconnaissance sur la base de test. Visualisez quelques exemples de données mal classées.\n",
        "\n"
      ]
    },
    {
      "cell_type": "code",
      "execution_count": null,
      "metadata": {
        "colab": {
          "base_uri": "https://localhost:8080/",
          "height": 437
        },
        "id": "jHFSPMfuLnxU",
        "outputId": "f61bc830-c32d-4467-d782-25bd677f5087"
      },
      "outputs": [
        {
          "data": {
            "image/png": "[encoded data removed]",
            "text/plain": [
              "<Figure size 1000x500 with 8 Axes>"
            ]
          },
          "metadata": {},
          "output_type": "display_data"
        }
      ],
      "source": [
        "#Chargement des données\n",
        "from sklearn import datasets\n",
        "from sklearn.model_selection import GridSearchCV\n",
        "from sklearn.metrics import confusion_matrix\n",
        "\n",
        "\n",
        "\n",
        "images, classes = datasets.load_digits(return_X_y = True)\n",
        "n_samples = len(images)\n",
        "data = images.reshape((n_samples, -1))\n",
        "\n",
        "#Constitution des bases d'apprentissage et de test\n",
        "ntrain = 800\n",
        "trainX = data[:ntrain,:]\n",
        "trainY = classes[:ntrain]\n",
        "testX = data[ntrain:-1,:]\n",
        "testY = classes[ntrain:-1]\n",
        "\n",
        "#Visu des données\n",
        "fig, axes = plt.subplots(2, 4, figsize=(10,5))\n",
        "\n",
        "for ax in axes.flat:\n",
        "    isample = np.random.randint(trainX.shape[0])\n",
        "    ax.imshow(trainX[isample].reshape(8,8),cmap='gray')\n",
        "    ax.set_title(\"Chiffre = {}\".format(trainY[isample]))\n",
        "    ax.axis('off')\n",
        "\n",
        "plt.show()"
      ]
    },
    {
      "cell_type": "code",
      "execution_count": null,
      "metadata": {
        "id": "eCG1tHanLnxe"
      },
      "outputs": [],
      "source": [
        "##############################\n",
        "# METTRE VOTRE CODE ICI\n",
        "\n",
        "\n",
        "\n",
        "##############################\n",
        "\n",
        "bestsvc = clf.best_estimator_\n",
        "\n",
        "print(\"\\nBest score = {:.2f}% with kernel {}\".format(100*clf.best_score_, bestsvc.kernel))\n",
        "if bestsvc.kernel == 'rbf':\n",
        "    print(\"Parameters are gamma = {:.2g} and C = {:2g}\".format(bestsvc.gamma, bestsvc.C))\n",
        "elif bestsvc.kernel == 'poly':\n",
        "    print(\"Parameters are degree = {} and C = {:2g}\".format(bestsvc.degree, bestsvc.C))\n",
        "\n",
        "predY=bestsvc.predict(testX)\n",
        "print(confusion_matrix(testY, predY))\n",
        "\n",
        "nequal = (predY == testY).sum()\n",
        "print(\"Taux de reco = {:.2f}%\".format(nequal/testY.shape[0]*100))\n"
      ]
    },
    {
      "cell_type": "code",
      "execution_count": null,
      "metadata": {
        "id": "8iNcabRKLnxt"
      },
      "outputs": [],
      "source": [
        "# Visualisation des données mal classées\n",
        "\n",
        "ibad=(predY != testY).nonzero()[0]\n",
        "\n",
        "fig, axes = plt.subplots(2, 4, figsize=(10,5))\n",
        "for ax in axes.flat:\n",
        "    isample = ibad[np.random.randint(ibad.shape[0])]\n",
        "    ax.imshow(testX[isample].reshape(8,8),cmap='gray')\n",
        "    ax.set_title(\"Predit {} au lieu de {}\".format(predY[isample], testY[isample]))\n",
        "    ax.axis('off')\n",
        "\n",
        "plt.show()\n"
      ]
    },
    {
      "cell_type": "code",
      "execution_count": null,
      "metadata": {
        "colab": {
          "base_uri": "https://localhost:8080/"
        },
        "id": "ShLU0sngLnx2",
        "outputId": "f9ead83e-01f9-4834-9e5a-70d065e55e74"
      },
      "outputs": [
        {
          "name": "stdout",
          "output_type": "stream",
          "text": [
            "[LibLinear][LibLinear][LibLinear][LibLinear][LibLinear][LibLinear][LibLinear][LibLinear][LibLinear][LibLinear][LibLinear][LibLinear][LibLinear][LibLinear][LibLinear][LibLinear][LibLinear][LibLinear][LibLinear][LibLinear][LibLinear][LibLinear][LibLinear][LibLinear][LibLinear][LibLinear][LibLinear][LibLinear][LibLinear][LibLinear][LibLinear][LibLinear][LibLinear][LibLinear][LibLinear][LibLinear]\n",
            "Best score = 91.00% with C=0.001\n",
            "[[ 96   0   0   0   1   0   0   0   0   0]\n",
            " [  0  87   2   1   1   0   1   0   3   6]\n",
            " [  2   0  94   0   0   0   0   0   0   0]\n",
            " [  0   5   0  86   0   3   0   2   4   1]\n",
            " [  1   1   0   0  94   0   3   0   0   3]\n",
            " [  0   0   0   0   0  98   1   0   0   3]\n",
            " [  0   1   0   0   0   0 101   0   0   0]\n",
            " [  0   0   0   0   0   1   0  98   1   0]\n",
            " [  0   4   0   1   0   6   2   0  74   7]\n",
            " [  2   0   0   2   0   2   0   1   2  92]]\n",
            "Taux de reco = 92.37%\n"
          ]
        }
      ],
      "source": [
        "# Autre version avec LinearSVC (beaucoup plus rapide)\n",
        "\n",
        "parameters = {'C':np.logspace(-3, 3, 7)}\n",
        "svc = svm.LinearSVC(max_iter=10000, tol=1e-3, verbose=True, dual=False)\n",
        "\n",
        "clf = GridSearchCV(cv=5,estimator=svc, param_grid=parameters)\n",
        "clf.fit(trainX, trainY)\n",
        "\n",
        "bestsvc = clf.best_estimator_\n",
        "\n",
        "print(\"\\nBest score = {:.2f}% with C={:.2g}\".format(100*clf.best_score_, bestsvc.C))\n",
        "\n",
        "predY=bestsvc.predict(testX)\n",
        "print(confusion_matrix(testY, predY))\n",
        "\n",
        "nequal = (predY == testY).sum()\n",
        "print(\"Taux de reco = {:.2f}%\".format(nequal/testY.shape[0]*100))\n"
      ]
    },
    {
      "cell_type": "code",
      "execution_count": null,
      "metadata": {
        "id": "9JBkoNKINiV6"
      },
      "outputs": [],
      "source": []
    }
  ],
  "metadata": {
    "colab": {
      "provenance": []
    },
    "kernelspec": {
      "display_name": "Python 3",
      "language": "python",
      "name": "python3"
    }
  },
  "nbformat": 4,
  "nbformat_minor": 0
}
