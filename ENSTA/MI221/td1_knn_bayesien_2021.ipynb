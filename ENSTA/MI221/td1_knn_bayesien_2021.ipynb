{
  "nbformat": 4,
  "nbformat_minor": 0,
  "metadata": {
    "colab": {
      "name": "td1_knn_bayesien.ipynb",
      "provenance": [],
      "collapsed_sections": []
    },
    "kernelspec": {
      "display_name": "Python 3",
      "language": "python",
      "name": "python3"
    }
  },
  "cells": [
    {
      "cell_type": "markdown",
      "metadata": {
        "id": "qXTXvYpE1CPB"
      },
      "source": [
        "# TD 1: Apprentissage automatique - Approche bayésienne et k-NN\n",
        "# 12 / 01 / 2021\n",
        "\n",
        "\n",
        "Répondez aux questions dans le document et copiez les lignes de code qui ont produit les résultats aux endroits indiqués.\n",
        "\n",
        "Le TD comprend 2 parties:\n",
        "* Une comparaison des approches bayésienne et plus proches voisins pour un problème de classification binaire. Les algorithmes seront codés intégralement en python.\n",
        "* Une prise en main sur un autre problème de la bibliothèque  [scikit-learn](http://scikit-learn.org/stable/modules/classes.html) qui implémente les mêmes algorithmes.\n"
      ]
    },
    {
      "cell_type": "markdown",
      "metadata": {
        "id": "49SXeP9y5Bmi"
      },
      "source": [
        "______\n",
        "\n",
        "# Introduction: Utilisation de Colab\n",
        "______\n",
        "\n",
        "Dans ce TD, on utilise les ressources proposées par Colab. Les données seront stockées sur le Google Drive associé à votre compte Gmail.\n",
        "\n",
        "Pour accéder au données depuis Colab, il faut \"monter le Gdrive\" depuis une session Colab.\n",
        "\n",
        "Exécutez le cellule suivante pour le faire. il vous sera demandé de saisir une clé d'authentification générée à partir du lien affiché. (Ctrl+Enter ou clic sur la flèche)"
      ]
    },
    {
      "cell_type": "code",
      "metadata": {
        "id": "mrs_sTGV15Xa",
        "colab": {
          "base_uri": "https://localhost:8080/"
        },
        "outputId": "a573cc67-8dbb-4e64-f2ca-7329e895cfa8"
      },
      "source": [
        "from google.colab import drive\n",
        "drive.mount('/content/gdrive')"
      ],
      "execution_count": null,
      "outputs": [
        {
          "output_type": "stream",
          "text": [
            "Mounted at /content/gdrive\n"
          ],
          "name": "stdout"
        }
      ]
    },
    {
      "cell_type": "markdown",
      "metadata": {
        "id": "2l_9h-Hs7DQ5"
      },
      "source": [
        "Il faut ensuite positionner des variables d'environnement pour indiquer à Colab où se trouvent les données (fichiers python et données d'apprentissage).\n",
        "\n",
        "Exécutez la cellule suivante pour le faire, et modifiez la variable 'TD_DIR' à l'endroit où vous avez sauvegardé le TD1. "
      ]
    },
    {
      "cell_type": "code",
      "metadata": {
        "id": "JJSr-2A-2YV4"
      },
      "source": [
        "import sys\n",
        "\n",
        "# Modifier la variable du TD en fonction de l'endroit où les données sont stockées\n",
        "TD_DIR = 'gdrive/My Drive/teaching/IOGS/'\n",
        "sys.path.append(TD_DIR)"
      ],
      "execution_count": null,
      "outputs": []
    },
    {
      "cell_type": "markdown",
      "metadata": {
        "id": "nRprSmVE1CPF"
      },
      "source": [
        "______\n",
        "\n",
        "# Partie 1: Apprentissage automatique en Python\n",
        "______\n",
        "\n",
        "On se propose dans cette première partie de construire une démarche d'apprentissage sur un problème simple, et de programmer les deux algorithmes vus dans le cours (bayésien naĩf et plus proches voisins).\n",
        "\n",
        "Chaque jeu de données est constitué de quatre ensembles :\n",
        "* Un ensemble de données test utilisées pour l'apprentissage : trainX\n",
        "* Un ensemble de classes associées aux données d'apprentissage : trainY\n",
        "* Un ensemble de données à tester : testX\n",
        "* Un ensemble de classes associées aux données de test : testY\n",
        "\n",
        "Les données de test ne doivent pas être utilisées pour l'apprentissage proprement dit, seulement pour son évaluation.\n",
        "\n",
        "Si besoin (validation croisée), les jeux d'apprentissage peuvent être répartis en train + validation.\n",
        "\n",
        "Remarque: Pour visualiser dans le notebook, appliquer l'instruction:\n",
        ">```python\n",
        "plt.show() ```\n",
        "\n",
        "après chaque fonction de visualisation.\n"
      ]
    },
    {
      "cell_type": "markdown",
      "metadata": {
        "id": "QFiivfGl1CPH"
      },
      "source": [
        "## Activité 1.1 : Bayésien naïf.\n",
        "\n",
        "On se propose de réaliser une classification binaire d'un ensemble de données en utilisant une approche de type \"bayésien naïf\".\n",
        "\n",
        "Le problème est une classification binaire pour détecter des billets de banque frauduleux. Les données source d'origine sont accessible ici https://archive.ics.uci.edu/ml/datasets/banknote+authentication, mais sont aussi présentes sur votre machine. \n",
        "\n",
        "L'objectif est de dérouler les différentes étapes d'une démarche d'apprentissage automatique:\n",
        "1. Constitution de la base d'apprentissage\n",
        "2. Visualisation des données\n",
        "3. Choix de l'approche\n",
        "4. Optimisation\n",
        "5. Evaluation\n",
        "\n",
        "### Base d'apprentissage"
      ]
    },
    {
      "cell_type": "markdown",
      "metadata": {
        "id": "WOJ2R0Hw1CPL"
      },
      "source": [
        "\n",
        "<div class=\"alert alert-block alert-info\">\n",
        "\n",
        "Les données source ont été placées dans le répertoire du TP (fichier 'data_banknote_authentication.txt').\n",
        "\n",
        "Exécuter le code ci-dessous qui les charge, et qui les répartit en ensemble d'apprentissage et de test (fonction 'train_test_split')\n",
        "\n",
        "Montrer les tailles des données (nombre de caractéristiques, nombre de données). \n",
        "\n",
        "</div>\n"
      ]
    },
    {
      "cell_type": "code",
      "metadata": {
        "id": "w5TsMi6l1CPM",
        "colab": {
          "base_uri": "https://localhost:8080/"
        },
        "outputId": "33456874-46b7-486d-97d1-ef6ae1b8115e"
      },
      "source": [
        "# Librairies scientifique et visualisation utiles standard\n",
        "import numpy as np\n",
        "import matplotlib.pyplot as plt\n",
        "import random\n",
        "\n",
        "# Pour séparer les données en apprentissage et test\n",
        "from sklearn.model_selection import train_test_split\n",
        "\n",
        "# Pour visualiser  les données\n",
        "def show_data_2D(X,Y):\n",
        "    np.unique(Y)\n",
        "    fig, ax = plt.subplots(figsize=(8, 6))\n",
        "    for id in np.unique(Y):\n",
        "        idpositive=np.nonzero(Y == id)[0]\n",
        "        ax.scatter(X[idpositive,0], X[idpositive,1], s=50)\n",
        "\n",
        "# Chargement des données et constitution de la base d'apprentissage\n",
        "\n",
        "\n",
        "X = np.loadtxt(TD_DIR+'data_banknote_authentication.txt', delimiter=',')\n",
        "y = X[:,-1]\n",
        "X = X[:,:-1]\n",
        "\n",
        "X_train, X_test, y_train, y_test = train_test_split(X, y,\n",
        "                                                    random_state=42,\n",
        "                                                    stratify=y,\n",
        "                                                    test_size=0.8)\n",
        "\n",
        "# MODIFIER LE CODE\n",
        "\n",
        "print(\"Les données sont de dimension {:d}\".format(1312312313))\n",
        "print(\"Le nombre de données d'apprentissage est {:d}\".format(7897897))\n"
      ],
      "execution_count": null,
      "outputs": [
        {
          "output_type": "stream",
          "text": [
            "Les données sont de dimension 1312312313\n",
            "Le nombre de données d'apprentissage est 7897897\n"
          ],
          "name": "stdout"
        }
      ]
    },
    {
      "cell_type": "markdown",
      "metadata": {
        "id": "CfRRqXqM1CPV"
      },
      "source": [
        "### Visualisation des données"
      ]
    },
    {
      "cell_type": "markdown",
      "metadata": {
        "id": "AHvtgNQN1CPY"
      },
      "source": [
        "\n",
        "\n",
        "<div class=\"alert alert-block alert-info\">\n",
        "\n",
        "Faire des sorties visuelles des distributions de données. Vous pourrez utiliser les fonctions de visualisation \"show_data_2D\" pour mettre en évidence les corrélations, et [plt.hist](https://matplotlib.org/devdocs/api/_as_gen/matplotlib.pyplot.hist.html) pour visualiser des histogrammes pour chaque classe.\n",
        "\n",
        "</div>\n"
      ]
    },
    {
      "cell_type": "code",
      "metadata": {
        "id": "PDy0FWkL1CPa",
        "colab": {
          "base_uri": "https://localhost:8080/",
          "height": 377
        },
        "outputId": "c97d98d9-beb8-48bc-b575-f75a72a00da0"
      },
      "source": [
        "# Dimensions à étudier (à répéter pour d'autres dimensions)\n",
        "feat1 = 2\n",
        "feat2 = 3\n",
        "\n",
        "# Distributions 2D\n",
        "show_data_2D(X_train[:,[feat1, feat2]], y_train)\n",
        "plt.show()\n",
        "\n",
        "X0 = X_train[y_train == 0,:]\n",
        "X1 = X_train[y_train == 1,:]\n",
        "\n",
        "# Visualise les distributions pour un attribut\n",
        "a1 = X0[:,feat1]\n",
        "b1 = X1[:,feat1]\n",
        "\n",
        "#Visualise les histogrammes\n",
        "# METTRE VOTRE CODE ICI\n",
        "#\n",
        "#\n",
        "#\n",
        "#"
      ],
      "execution_count": null,
      "outputs": [
        {
          "output_type": "display_data",
          "data": {
            "image/png": "[encoded data removed]",
            "text/plain": [
              "<Figure size 576x432 with 1 Axes>"
            ]
          },
          "metadata": {
            "tags": []
          }
        }
      ]
    },
    {
      "cell_type": "markdown",
      "metadata": {
        "id": "pdN-nX7l1CPf"
      },
      "source": [
        "### Choix de l'approche"
      ]
    },
    {
      "cell_type": "markdown",
      "metadata": {
        "id": "xLVd5nah1CPi"
      },
      "source": [
        "\n",
        "\n",
        "<div class=\"alert alert-block alert-info\">\n",
        "\n",
        "Le principe du bayésien naïf est d'estimer la loi conditionnelle $P[x_i | y]$ pour les différentes hypothèses $y\\in\\{0,1\\}$ et caractéristiques $x_i$.\n",
        "<br><br>\n",
        "A partir de la répartition des données pour chaque caractéristique, le principe du choix de l'approche est de sélectionner un bon modèle de cette distribution (binomiale, multinomiale, gaussienne, histogram, mélange de gaussienne...)?\n",
        "<br><br>\n",
        "Vous pouvez regarder la bibliothèque [scipy.stats](https://docs.scipy.org/doc/scipy/reference/stats.html) qui définit les familles courantes de distributions statistiques.\n",
        "<br><br>\n",
        "Essayez d'estimer quelques lois paramétriques pertinentes (méthode 'fit' des classes de scipy.stats) en les superposant aux histogrammes des données. \n",
        "\n",
        "</div>\n"
      ]
    },
    {
      "cell_type": "code",
      "metadata": {
        "scrolled": false,
        "id": "Glxf8LYx1CPk",
        "colab": {
          "base_uri": "https://localhost:8080/",
          "height": 284
        },
        "outputId": "96ddd278-973d-4b8b-8924-0b620972bf5e"
      },
      "source": [
        "# Choix de la distribution\n",
        "from scipy.stats import laplace, expon, norm, gamma, beta, cauchy, logistic\n",
        "\n",
        "# Changer de distribution\n",
        "# MODIFIER LE CODE ICI\n",
        "distrib=expon\n",
        "\n",
        "# Choix de la caractéristique\n",
        "feat1 = 2\n",
        "a1 = X0[:,feat1]\n",
        "b1 = X1[:,feat1]\n",
        "\n",
        "# Visualise les distributions pour une caractéristique\n",
        "plt.clf()\n",
        "\n",
        "data = a1\n",
        "param = distrib.fit(data)\n",
        "\n",
        "# Plot the histogram.\n",
        "plt.hist(data, bins=25, density=True, alpha=0.6, color='b')\n",
        "\n",
        "# Plot the PDF.\n",
        "xmin, xmax = plt.xlim()\n",
        "x = np.linspace(xmin, xmax, 100)\n",
        "p = distrib.pdf(x, *param)\n",
        "plt.plot(x, p, 'b', linewidth=2)\n",
        "\n",
        "data = b1\n",
        "param = distrib.fit(data)\n",
        "\n",
        "# Plot the histogram.\n",
        "plt.hist(data, bins=25, density=True, alpha=0.6, color='g')\n",
        "\n",
        "# Plot the PDF.\n",
        "xmin, xmax = plt.xlim()\n",
        "x = np.linspace(xmin, xmax, 100)\n",
        "p = distrib.pdf(x, *param)\n",
        "plt.plot(x, p, 'g', linewidth=2)\n",
        "\n",
        "title = \"Fit results for %s\" % distrib.name\n",
        "plt.title(title)\n",
        "\n",
        "plt.show()\n",
        "\n"
      ],
      "execution_count": null,
      "outputs": [
        {
          "output_type": "display_data",
          "data": {
            "image/png": "[encoded data removed]",
            "text/plain": [
              "<Figure size 432x288 with 1 Axes>"
            ]
          },
          "metadata": {
            "tags": []
          }
        }
      ]
    },
    {
      "cell_type": "markdown",
      "metadata": {
        "id": "sRO9cUOm1CPq"
      },
      "source": [
        "<div class=\"alert alert-block alert-success\">\n",
        "QUESTION: Quelle est la famille de distributions la plus simple pour décrire les données?\n",
        "</div>"
      ]
    },
    {
      "cell_type": "markdown",
      "metadata": {
        "id": "2UhWErS71CPt"
      },
      "source": [
        "**Réponse**\n",
        "\n",
        "ICI"
      ]
    },
    {
      "cell_type": "markdown",
      "metadata": {
        "id": "T5CbT7WJ1CPv"
      },
      "source": [
        "### Optimisation du modèle"
      ]
    },
    {
      "cell_type": "markdown",
      "metadata": {
        "id": "D8YhAwb01CPv"
      },
      "source": [
        "<div class=\"alert alert-block alert-info\">\n",
        "Ecrire une fonction d'estimation qui renvoie le modèle de distribution ou ses paramètres pour l'ensemble des lois conditionnelles. Ce sera le résultat de votre apprentissage! Appliquez-la sur les distributions de chacune des deux classes.\n",
        "</div>"
      ]
    },
    {
      "cell_type": "code",
      "metadata": {
        "scrolled": false,
        "id": "QMY6nMPJ1CPy",
        "colab": {
          "base_uri": "https://localhost:8080/",
          "height": 334
        },
        "outputId": "2d33a830-6ec1-4bdf-df15-ebaf0c269609"
      },
      "source": [
        "def build_model(data, distrib):\n",
        "    # METTRE VOTRE CODE ICI\n",
        "    #\n",
        "    #\n",
        "    #\n",
        "    #\n",
        "    return params\n",
        "\n",
        "distrib = laplace\n",
        "\n",
        "param0 = build_model(X0, distrib)\n",
        "param1 = build_model(X1, distrib)\n"
      ],
      "execution_count": null,
      "outputs": [
        {
          "output_type": "error",
          "ename": "NameError",
          "evalue": "ignored",
          "traceback": [
            "\u001b[0;31m---------------------------------------------------------------------------\u001b[0m",
            "\u001b[0;31mNameError\u001b[0m                                 Traceback (most recent call last)",
            "\u001b[0;32m<ipython-input-7-ba4a2a46fa10>\u001b[0m in \u001b[0;36m<module>\u001b[0;34m()\u001b[0m\n\u001b[1;32m      9\u001b[0m \u001b[0mdistrib\u001b[0m \u001b[0;34m=\u001b[0m \u001b[0mlaplace\u001b[0m\u001b[0;34m\u001b[0m\u001b[0;34m\u001b[0m\u001b[0m\n\u001b[1;32m     10\u001b[0m \u001b[0;34m\u001b[0m\u001b[0m\n\u001b[0;32m---> 11\u001b[0;31m \u001b[0mparam0\u001b[0m \u001b[0;34m=\u001b[0m \u001b[0mbuild_model\u001b[0m\u001b[0;34m(\u001b[0m\u001b[0mX0\u001b[0m\u001b[0;34m,\u001b[0m \u001b[0mdistrib\u001b[0m\u001b[0;34m)\u001b[0m\u001b[0;34m\u001b[0m\u001b[0;34m\u001b[0m\u001b[0m\n\u001b[0m\u001b[1;32m     12\u001b[0m \u001b[0mparam1\u001b[0m \u001b[0;34m=\u001b[0m \u001b[0mbuild_model\u001b[0m\u001b[0;34m(\u001b[0m\u001b[0mX1\u001b[0m\u001b[0;34m,\u001b[0m \u001b[0mdistrib\u001b[0m\u001b[0;34m)\u001b[0m\u001b[0;34m\u001b[0m\u001b[0;34m\u001b[0m\u001b[0m\n",
            "\u001b[0;32m<ipython-input-7-ba4a2a46fa10>\u001b[0m in \u001b[0;36mbuild_model\u001b[0;34m(data, distrib)\u001b[0m\n\u001b[1;32m      5\u001b[0m     \u001b[0;31m#\u001b[0m\u001b[0;34m\u001b[0m\u001b[0;34m\u001b[0m\u001b[0;34m\u001b[0m\u001b[0m\n\u001b[1;32m      6\u001b[0m     \u001b[0;31m#\u001b[0m\u001b[0;34m\u001b[0m\u001b[0;34m\u001b[0m\u001b[0;34m\u001b[0m\u001b[0m\n\u001b[0;32m----> 7\u001b[0;31m     \u001b[0;32mreturn\u001b[0m \u001b[0mparams\u001b[0m\u001b[0;34m\u001b[0m\u001b[0;34m\u001b[0m\u001b[0m\n\u001b[0m\u001b[1;32m      8\u001b[0m \u001b[0;34m\u001b[0m\u001b[0m\n\u001b[1;32m      9\u001b[0m \u001b[0mdistrib\u001b[0m \u001b[0;34m=\u001b[0m \u001b[0mlaplace\u001b[0m\u001b[0;34m\u001b[0m\u001b[0;34m\u001b[0m\u001b[0m\n",
            "\u001b[0;31mNameError\u001b[0m: name 'params' is not defined"
          ]
        }
      ]
    },
    {
      "cell_type": "markdown",
      "metadata": {
        "id": "FkNSptq91CP6"
      },
      "source": [
        "<div class=\"alert alert-block alert-info\">\n",
        "Ecrire une fonction 'compute_log_likelihood' qui prédit la classe à partir des données et des modèles de distributions en utilisant une approche bayésienne naïve:\n",
        "$$\\log P[y|\\mathbf{x}] \\propto \\sum_{i=1}^N \\log P[x_i|y] + \\log P[y]$$\n",
        "pour chacune des classes $y$ et une donnée à prédire $\\mathbf{x}$.\n",
        "</div>"
      ]
    },
    {
      "cell_type": "code",
      "metadata": {
        "scrolled": false,
        "id": "cxkCeXgF1CP9"
      },
      "source": [
        "def compute_log_likelihood(data, distrib, params):\n",
        "    # METTRE VOTRE CODE ICI\n",
        "    #\n",
        "    #\n",
        "    #\n",
        "    return llk.squeeze()\n"
      ],
      "execution_count": null,
      "outputs": []
    },
    {
      "cell_type": "markdown",
      "metadata": {
        "id": "B4bYeL9d1CQB"
      },
      "source": [
        "### Evaluation"
      ]
    },
    {
      "cell_type": "markdown",
      "metadata": {
        "id": "f_o4lhxl1CQC"
      },
      "source": [
        "<div class=\"alert alert-block alert-info\">\n",
        "Tester les performances du classifieur sur les données d'apprentissage et de test. Pour cela, écrivez une fonction de prédiction utilisant le modèle, appliquez-le sur les données de test et comparez aux vraies valeurs.\n",
        "</div>"
      ]
    },
    {
      "cell_type": "code",
      "metadata": {
        "scrolled": false,
        "id": "waGxeCN71CQE",
        "outputId": "75738c49-27f1-43cd-8242-3b3bbc751291"
      },
      "source": [
        "def predic_bayesien_naif(data, distrib, param0, param1):       \n",
        "    # METTRE VOTRE CODE ICI\n",
        "    #\n",
        "    #\n",
        "    #\n",
        "    #\n",
        "    return y_predic\n",
        "\n",
        "\n",
        "y_train_predic = predic_bayesien_naif(X_train, distrib, param0, param1)\n",
        "y_test_predic = predic_bayesien_naif(X_test, distrib, param0, param1)\n",
        "\n",
        "\n",
        "nerr_train = (y_train_predic != y_train).sum()\n",
        "nerr_test = (y_test_predic != y_test).sum()\n",
        "\n",
        "print(\"Taux d'erreur sur données de train = {:.1f}%\".format(100*nerr_train/X_train.shape[0]))\n",
        "print(\"Taux d'erreur sur données de test = {:.1f}%\".format(100*nerr_test/X_test.shape[0]))\n"
      ],
      "execution_count": null,
      "outputs": [
        {
          "output_type": "error",
          "ename": "NameError",
          "evalue": "name 'param0' is not defined",
          "traceback": [
            "\u001b[0;31m---------------------------------------------------------------------------\u001b[0m",
            "\u001b[0;31mNameError\u001b[0m                                 Traceback (most recent call last)",
            "\u001b[0;32m<ipython-input-7-c5dab8756df0>\u001b[0m in \u001b[0;36m<module>\u001b[0;34m()\u001b[0m\n\u001b[1;32m      8\u001b[0m \u001b[0;34m\u001b[0m\u001b[0m\n\u001b[1;32m      9\u001b[0m \u001b[0;34m\u001b[0m\u001b[0m\n\u001b[0;32m---> 10\u001b[0;31m \u001b[0my_train_predic\u001b[0m \u001b[0;34m=\u001b[0m \u001b[0mpredic_bayesien_naif\u001b[0m\u001b[0;34m(\u001b[0m\u001b[0mX_train\u001b[0m\u001b[0;34m,\u001b[0m \u001b[0mdistrib\u001b[0m\u001b[0;34m,\u001b[0m \u001b[0mparam0\u001b[0m\u001b[0;34m,\u001b[0m \u001b[0mparam1\u001b[0m\u001b[0;34m)\u001b[0m\u001b[0;34m\u001b[0m\u001b[0m\n\u001b[0m\u001b[1;32m     11\u001b[0m \u001b[0my_test_predic\u001b[0m \u001b[0;34m=\u001b[0m \u001b[0mpredic_bayesien_naif\u001b[0m\u001b[0;34m(\u001b[0m\u001b[0mX_test\u001b[0m\u001b[0;34m,\u001b[0m \u001b[0mdistrib\u001b[0m\u001b[0;34m,\u001b[0m \u001b[0mparam0\u001b[0m\u001b[0;34m,\u001b[0m \u001b[0mparam1\u001b[0m\u001b[0;34m)\u001b[0m\u001b[0;34m\u001b[0m\u001b[0m\n\u001b[1;32m     12\u001b[0m \u001b[0;34m\u001b[0m\u001b[0m\n",
            "\u001b[0;31mNameError\u001b[0m: name 'param0' is not defined"
          ]
        }
      ]
    },
    {
      "cell_type": "markdown",
      "metadata": {
        "id": "fKfBe3FL1CQM"
      },
      "source": [
        "<div class=\"alert alert-block alert-success\">\n",
        "QUESTION: Expliquez les différences des valeurs de performance entre ensembles d'apprentissage et de test.\n",
        "</div>"
      ]
    },
    {
      "cell_type": "markdown",
      "metadata": {
        "id": "bEx_0AkT1CQM"
      },
      "source": [
        "**Réponse**\n",
        "\n",
        "Le modèle est appris sur des données en petit nombre, et est donc imprécis."
      ]
    },
    {
      "cell_type": "markdown",
      "metadata": {
        "id": "tjEb4uGW1CQO"
      },
      "source": [
        "## Activité 1.2: Plus proches voisins\n",
        "On va reproduire la séquence d'activité précédente en développant une approche de type 'plus proches voisins', et la valider sur le même jeu de données."
      ]
    },
    {
      "cell_type": "markdown",
      "metadata": {
        "id": "U2XH64-b1CQQ"
      },
      "source": [
        "### Choix du modèle"
      ]
    },
    {
      "cell_type": "markdown",
      "metadata": {
        "id": "27bkejTm1CQR"
      },
      "source": [
        "\n",
        "<div class=\"alert alert-block alert-info\">\n",
        "Les principaux paramètres du modèle sont le type de distance ou de mesure de similarité, et le nombre de voisins à utiliser pour prendre une décision.\n",
        "</div>"
      ]
    },
    {
      "cell_type": "code",
      "metadata": {
        "id": "HvxAcXeR1CQT"
      },
      "source": [
        "# Choix de la distance de similarité\n",
        "dist_name = 'euclidean'\n",
        "\n",
        "# Choix du nombre de voisins\n",
        "k = 5"
      ],
      "execution_count": null,
      "outputs": []
    },
    {
      "cell_type": "markdown",
      "metadata": {
        "id": "S8kdXwfO1CQi"
      },
      "source": [
        "### Optimisation"
      ]
    },
    {
      "cell_type": "markdown",
      "metadata": {
        "id": "Xu0DQO6L1CQk"
      },
      "source": [
        "\n",
        "<div class=\"alert alert-block alert-info\">\n",
        "L'apprentissage d'une approche 'plus proches voisins' consiste simplement à collecter les exemples d'apprentissage et leurs classes.\n",
        "</div>"
      ]
    },
    {
      "cell_type": "code",
      "metadata": {
        "id": "kk9Pzq9k1CQl"
      },
      "source": [
        "# Apprentissage\n",
        "Bdd_samples = X_train\n",
        "Bdd_classes = y_train"
      ],
      "execution_count": null,
      "outputs": []
    },
    {
      "cell_type": "markdown",
      "metadata": {
        "id": "QUlQHT2w1CQr"
      },
      "source": [
        "### Evaluation"
      ]
    },
    {
      "cell_type": "markdown",
      "metadata": {
        "id": "Du_w5XZb1CQt"
      },
      "source": [
        "\n",
        "<div class=\"alert alert-block alert-info\">\n",
        "L'évaluation consiste à vérifier que la fonction de prédiction appliquée sur le jeu de test produit des classes identiques à la vérité terrain. \n",
        "<br><br>\n",
        "Ecrivez le corps de la fonction de prédiction 'predic_kNN' prenant en entrée l'ensemble de test, et les paramètres de l'algorithme du plus proche voisin. \n",
        "<br><br>\n",
        "Vous pouvez utiliser les fonctions de calcul de matrices de similarité <a href=https://docs.scipy.org/doc/scipy/reference/generated/scipy.spatial.distance.cdist.html>cdist</a>, les fonctions de tri de numpy <a href=https://docs.scipy.org/doc/numpy/reference/generated/numpy.argsort.html>argsort</a> et les fonctions de statistiques sur des collections implémentées directement en Python dans la classe <a href=https://docs.python.org/3/library/collections.html#collections.Counter>Counter</a>. Avec ces fonctions, l'algorithme peut tenir en moins de 10 lignes.\n",
        "\n",
        "</div>"
      ]
    },
    {
      "cell_type": "code",
      "metadata": {
        "scrolled": false,
        "id": "JuF6YNjW1CQu",
        "outputId": "5dd3e6c7-3e01-4852-e130-e8bc7f483096"
      },
      "source": [
        "\n",
        "### Calcul de la distance\n",
        "\n",
        "from scipy.spatial import distance\n",
        "from collections import Counter\n",
        "\n",
        "def predic_kNN(X_test, samples, classes, dist_name, k):\n",
        "    # METTRE VOTRE CODE ICI\n",
        "    #\n",
        "    #\n",
        "    #    \n",
        "    return y_predic\n",
        "\n",
        "y_predic = predic_kNN(X_test, Bdd_samples, Bdd_classes, dist_name, k)\n",
        "nerr = (y_predic != y_test).sum()\n",
        "\n",
        "print(\"Taux d'erreur de test {:.1f}%\".format(100*nerr/X_test.shape[0]))"
      ],
      "execution_count": null,
      "outputs": [
        {
          "output_type": "error",
          "ename": "NameError",
          "evalue": "name 'y_predic' is not defined",
          "traceback": [
            "\u001b[0;31m---------------------------------------------------------------------------\u001b[0m",
            "\u001b[0;31mNameError\u001b[0m                                 Traceback (most recent call last)",
            "\u001b[0;32m<ipython-input-10-d48ba92b529d>\u001b[0m in \u001b[0;36m<module>\u001b[0;34m()\u001b[0m\n\u001b[1;32m     12\u001b[0m     \u001b[0;32mreturn\u001b[0m \u001b[0my_predic\u001b[0m\u001b[0;34m\u001b[0m\u001b[0m\n\u001b[1;32m     13\u001b[0m \u001b[0;34m\u001b[0m\u001b[0m\n\u001b[0;32m---> 14\u001b[0;31m \u001b[0my_predic\u001b[0m \u001b[0;34m=\u001b[0m \u001b[0mpredic_kNN\u001b[0m\u001b[0;34m(\u001b[0m\u001b[0mX_test\u001b[0m\u001b[0;34m,\u001b[0m \u001b[0mBdd_samples\u001b[0m\u001b[0;34m,\u001b[0m \u001b[0mBdd_classes\u001b[0m\u001b[0;34m,\u001b[0m \u001b[0mdist_name\u001b[0m\u001b[0;34m,\u001b[0m \u001b[0mk\u001b[0m\u001b[0;34m)\u001b[0m\u001b[0;34m\u001b[0m\u001b[0m\n\u001b[0m\u001b[1;32m     15\u001b[0m \u001b[0mnerr\u001b[0m \u001b[0;34m=\u001b[0m \u001b[0;34m(\u001b[0m\u001b[0my_predic\u001b[0m \u001b[0;34m!=\u001b[0m \u001b[0my_test\u001b[0m\u001b[0;34m)\u001b[0m\u001b[0;34m.\u001b[0m\u001b[0msum\u001b[0m\u001b[0;34m(\u001b[0m\u001b[0;34m)\u001b[0m\u001b[0;34m\u001b[0m\u001b[0m\n\u001b[1;32m     16\u001b[0m \u001b[0;34m\u001b[0m\u001b[0m\n",
            "\u001b[0;32m<ipython-input-10-d48ba92b529d>\u001b[0m in \u001b[0;36mpredic_kNN\u001b[0;34m(X_test, samples, classes, dist_name, k)\u001b[0m\n\u001b[1;32m     10\u001b[0m     \u001b[0;31m#\u001b[0m\u001b[0;34m\u001b[0m\u001b[0;34m\u001b[0m\u001b[0m\n\u001b[1;32m     11\u001b[0m     \u001b[0;31m#\u001b[0m\u001b[0;34m\u001b[0m\u001b[0;34m\u001b[0m\u001b[0m\n\u001b[0;32m---> 12\u001b[0;31m     \u001b[0;32mreturn\u001b[0m \u001b[0my_predic\u001b[0m\u001b[0;34m\u001b[0m\u001b[0m\n\u001b[0m\u001b[1;32m     13\u001b[0m \u001b[0;34m\u001b[0m\u001b[0m\n\u001b[1;32m     14\u001b[0m \u001b[0my_predic\u001b[0m \u001b[0;34m=\u001b[0m \u001b[0mpredic_kNN\u001b[0m\u001b[0;34m(\u001b[0m\u001b[0mX_test\u001b[0m\u001b[0;34m,\u001b[0m \u001b[0mBdd_samples\u001b[0m\u001b[0;34m,\u001b[0m \u001b[0mBdd_classes\u001b[0m\u001b[0;34m,\u001b[0m \u001b[0mdist_name\u001b[0m\u001b[0;34m,\u001b[0m \u001b[0mk\u001b[0m\u001b[0;34m)\u001b[0m\u001b[0;34m\u001b[0m\u001b[0m\n",
            "\u001b[0;31mNameError\u001b[0m: name 'y_predic' is not defined"
          ]
        }
      ]
    },
    {
      "cell_type": "markdown",
      "metadata": {
        "id": "BDt3OeJF1CQ5"
      },
      "source": [
        "<div class=\"alert alert-block alert-success\">\n",
        "QUESTION: quelles sont les différences principales par rapport au modèle précédent (Bayésien naïf)?\n",
        "</div>"
      ]
    },
    {
      "cell_type": "markdown",
      "metadata": {
        "id": "wdkbnXhn1CQ7"
      },
      "source": [
        "**Réponse**\n",
        "\n",
        "Phase d'apprentissage réduite, temps de calcul plus long, performances meilleures (prise en compte des corrélations entre caractéristiques dans la distance). "
      ]
    },
    {
      "cell_type": "markdown",
      "metadata": {
        "collapsed": true,
        "id": "EWJMzwpl1CQ8"
      },
      "source": [
        "___\n",
        "# Partie 2 : Utilisation de scikit-learn\n",
        "___\n",
        "\n",
        "\n",
        "On se propose dans cette partie d'utiliser la librarie [scikit-learn](http://scikit-learn.org/stable/modules/classes.html) qui contient un rand nombre d'algorithmes d'apprentissage et une interface facile d'utilisation, divisée en deux types de fonctionnalités: 'fit' et 'predict'.\n",
        "\n",
        "Le nouveau problème d'apprentissage est une classification binaire de textes en provenance de [newsgroups](https://en.wikipedia.org/wiki/Usenet_newsgroup), c'est-à-dire des forums de discussion sur une certaine thématique. L'objectif de la classification est de prédire le groupe où le document a été posté uniquement à partir du texte. \n",
        "\n",
        "Une première étape de mise en forme des données sous forme vectorielle a été réalisée et utilise une technique de \"sac de mots\" ([\"bag of words\"](https://en.wikipedia.org/wiki/Bag-of-words_model) en anglais). Les données sont de grande taille, mais très creuses (beaucoup de valeurs nulles par échantillon)."
      ]
    },
    {
      "cell_type": "markdown",
      "metadata": {
        "id": "7wpxGM3O1CQ9"
      },
      "source": [
        "<div class=\"alert alert-block alert-info\">\n",
        "\n",
        "Chargez les données visualisez quelques exemples. Calculez le nombre moyen de valeurs non nulles par échantillon.\n",
        "\n",
        "</div>"
      ]
    },
    {
      "cell_type": "code",
      "metadata": {
        "scrolled": true,
        "id": "Sca_lGy01CQ_",
        "colab": {
          "base_uri": "https://localhost:8080/",
          "height": 72
        },
        "outputId": "d4637bff-b144-46dd-e2d3-60a717e92819"
      },
      "source": [
        "## Lecture des données\n",
        "#class0 = 3 #'comp.sys.ibm.pc.hardware',\n",
        "#class1 = 4 #'comp.sys.mac.hardware'\n",
        "\n",
        "class0 = 13 # 'sci.med'\n",
        "class1 = 14 # 'sci.space'\n",
        "\n",
        "\n",
        "npzfile = np.load(TD_DIR+'2newsgroup_{:d}_{:d}.npz'.format(class0,class1),allow_pickle=True)\n",
        "X = npzfile['arr_0'].tolist().todense()\n",
        "\n",
        "y = X[:,-1].getA1()\n",
        "X = X[:,:-1]\n",
        "\n",
        "X_train, X_test, y_train, y_test = train_test_split(X, y,\n",
        "                                                    random_state=42,\n",
        "                                                    stratify=y,\n",
        "                                                    test_size=0.3)\n",
        "\n",
        "print(\"Les données sont de dimension {:d}\".format(X_train.shape[1]))\n",
        "print(\"Le nombre de données d'apprentissage est {:d}\".format(y_train.shape[0]))\n",
        "\n",
        "# MODIFIER LE CODE ICI\n",
        "non_nul_moyen = 78789797\n",
        "print(\"Le nombre moyen de valeurs non nulles par échantillon est {:.1f}\".format(non_nul_moyen))\n"
      ],
      "execution_count": null,
      "outputs": [
        {
          "output_type": "stream",
          "text": [
            "Les données sont de dimension 24412\n",
            "Le nombre de données d'apprentissage est 1383\n",
            "Le nombre moyen de valeurs non nulles par échantillon est 78789797.0\n"
          ],
          "name": "stdout"
        }
      ]
    },
    {
      "cell_type": "markdown",
      "metadata": {
        "id": "nc-pYbr11CRG"
      },
      "source": [
        "## Activité 2.1: bayésien naïf"
      ]
    },
    {
      "cell_type": "markdown",
      "metadata": {
        "id": "yfFBwSsQ1CRJ"
      },
      "source": [
        "<div class=\"alert alert-block alert-info\">\n",
        "\n",
        "La bibliothèque propose une version de l'algorithme [bayésien naif](http://scikit-learn.org/stable/modules/classes.html#module-sklearn.naive_bayes) avec plusieurs types de modèles de distributions de probabilités. Quel est le modèle plus adapté au problème parmi les trois proposés?\n",
        "\n",
        "<br><br>\n",
        "\n",
        "Ecrivez ensuite la démarche générique d'apprentissage à partir de la bibliothèque scikit-learn.\n",
        "</div>"
      ]
    },
    {
      "cell_type": "code",
      "metadata": {
        "scrolled": false,
        "id": "FGsqfqpE1CRK",
        "colab": {
          "base_uri": "https://localhost:8080/",
          "height": 248
        },
        "outputId": "f6d58aa6-59ed-4602-cdf7-f6ab21a81cb3"
      },
      "source": [
        "from sklearn.naive_bayes import BernoulliNB, GaussianNB, MultinomialNB\n",
        "\n",
        "# METTRE VOTRE CODE ICI\n",
        "#\n",
        "#\n",
        "#\n",
        "\n",
        "nerr = (y_predic != y_test.ravel()).sum()\n",
        "\n",
        "print(\"Taux d'erreur NN = {:.1f}%\".format(100*nerr/y_test.shape[0]))\n"
      ],
      "execution_count": null,
      "outputs": [
        {
          "output_type": "error",
          "ename": "NameError",
          "evalue": "ignored",
          "traceback": [
            "\u001b[0;31m---------------------------------------------------------------------------\u001b[0m",
            "\u001b[0;31mNameError\u001b[0m                                 Traceback (most recent call last)",
            "\u001b[0;32m<ipython-input-10-b019ce92fff8>\u001b[0m in \u001b[0;36m<module>\u001b[0;34m()\u001b[0m\n\u001b[1;32m      6\u001b[0m \u001b[0;31m#\u001b[0m\u001b[0;34m\u001b[0m\u001b[0;34m\u001b[0m\u001b[0;34m\u001b[0m\u001b[0m\n\u001b[1;32m      7\u001b[0m \u001b[0;34m\u001b[0m\u001b[0m\n\u001b[0;32m----> 8\u001b[0;31m \u001b[0mnerr\u001b[0m \u001b[0;34m=\u001b[0m \u001b[0;34m(\u001b[0m\u001b[0my_predic\u001b[0m \u001b[0;34m!=\u001b[0m \u001b[0my_test\u001b[0m\u001b[0;34m.\u001b[0m\u001b[0mravel\u001b[0m\u001b[0;34m(\u001b[0m\u001b[0;34m)\u001b[0m\u001b[0;34m)\u001b[0m\u001b[0;34m.\u001b[0m\u001b[0msum\u001b[0m\u001b[0;34m(\u001b[0m\u001b[0;34m)\u001b[0m\u001b[0;34m\u001b[0m\u001b[0;34m\u001b[0m\u001b[0m\n\u001b[0m\u001b[1;32m      9\u001b[0m \u001b[0;34m\u001b[0m\u001b[0m\n\u001b[1;32m     10\u001b[0m \u001b[0mprint\u001b[0m\u001b[0;34m(\u001b[0m\u001b[0;34m\"Taux d'erreur NN = {:.1f}%\"\u001b[0m\u001b[0;34m.\u001b[0m\u001b[0mformat\u001b[0m\u001b[0;34m(\u001b[0m\u001b[0;36m100\u001b[0m\u001b[0;34m*\u001b[0m\u001b[0mnerr\u001b[0m\u001b[0;34m/\u001b[0m\u001b[0my_test\u001b[0m\u001b[0;34m.\u001b[0m\u001b[0mshape\u001b[0m\u001b[0;34m[\u001b[0m\u001b[0;36m0\u001b[0m\u001b[0;34m]\u001b[0m\u001b[0;34m)\u001b[0m\u001b[0;34m)\u001b[0m\u001b[0;34m\u001b[0m\u001b[0;34m\u001b[0m\u001b[0m\n",
            "\u001b[0;31mNameError\u001b[0m: name 'y_predic' is not defined"
          ]
        }
      ]
    },
    {
      "cell_type": "markdown",
      "metadata": {
        "id": "5igyJiha1CRR"
      },
      "source": [
        "## Activité 2.2: Plus proche voisin"
      ]
    },
    {
      "cell_type": "markdown",
      "metadata": {
        "id": "34T2v5Wa1CRU"
      },
      "source": [
        "\n",
        "<div class=\"alert alert-block alert-info\">\n",
        "\n",
        "La bibliothèque scikit-learn propose une version de l'algorithme de classification par [k plus proches voisins](http://scikit-learn.org/stable/modules/generated/sklearn.neighbors.KNeighborsClassifier.html#sklearn.neighbors.KNeighborsClassifier) avec plusieurs paramétrages possibles.\n",
        "\n",
        "<br>\n",
        "Ecrivez la démarche générique d'apprentissage à partir cette bibliothèque, et testez plusieurs paramètres pour améliorer les performances. \n",
        "\n",
        "<br><br>\n",
        "ATTENTION: les calculs peuvent être plus longs que pour les exemples précédents (plusieurs dizaines de secondes). Une possibilité est de limiter la taille de la base de donnée pour sélectionner les bonnes configurations.\n",
        "<br>\n",
        "\n",
        "</div>"
      ]
    },
    {
      "cell_type": "code",
      "metadata": {
        "id": "zUQI8g-21CRV",
        "outputId": "76ef82ad-8597-4a21-8c8d-4bb46f1fe865"
      },
      "source": [
        "from sklearn.neighbors import KNeighborsClassifier\n",
        "import timeit\n",
        "\n",
        "tic = timeit.default_timer();  \n",
        "\n",
        "# METTRE VOTRE CODE ICI\n",
        "#\n",
        "#\n",
        "#\n",
        "#\n",
        "\n",
        "toc = timeit.default_timer()\n",
        "print(\"Temps d'execution = {:.3g} s\".format(toc-tic))\n",
        "\n",
        "nerr = (y_predic != y_test.ravel()).sum()\n",
        "\n",
        "print(\"Taux d'erreur NN = {:.1f}%\".format(100*nerr/y_test.shape[0]))\n"
      ],
      "execution_count": null,
      "outputs": [
        {
          "output_type": "stream",
          "text": [
            "Temps d'execution = 3.69e-05 s\n"
          ],
          "name": "stdout"
        },
        {
          "output_type": "error",
          "ename": "NameError",
          "evalue": "name 'y_predic' is not defined",
          "traceback": [
            "\u001b[0;31m---------------------------------------------------------------------------\u001b[0m",
            "\u001b[0;31mNameError\u001b[0m                                 Traceback (most recent call last)",
            "\u001b[0;32m<ipython-input-13-6b88e375a836>\u001b[0m in \u001b[0;36m<module>\u001b[0;34m()\u001b[0m\n\u001b[1;32m     13\u001b[0m \u001b[0mprint\u001b[0m\u001b[0;34m(\u001b[0m\u001b[0;34m\"Temps d'execution = {:.3g} s\"\u001b[0m\u001b[0;34m.\u001b[0m\u001b[0mformat\u001b[0m\u001b[0;34m(\u001b[0m\u001b[0mtoc\u001b[0m\u001b[0;34m-\u001b[0m\u001b[0mtic\u001b[0m\u001b[0;34m)\u001b[0m\u001b[0;34m)\u001b[0m\u001b[0;34m\u001b[0m\u001b[0m\n\u001b[1;32m     14\u001b[0m \u001b[0;34m\u001b[0m\u001b[0m\n\u001b[0;32m---> 15\u001b[0;31m \u001b[0mnerr\u001b[0m \u001b[0;34m=\u001b[0m \u001b[0;34m(\u001b[0m\u001b[0my_predic\u001b[0m \u001b[0;34m!=\u001b[0m \u001b[0my_test\u001b[0m\u001b[0;34m.\u001b[0m\u001b[0mravel\u001b[0m\u001b[0;34m(\u001b[0m\u001b[0;34m)\u001b[0m\u001b[0;34m)\u001b[0m\u001b[0;34m.\u001b[0m\u001b[0msum\u001b[0m\u001b[0;34m(\u001b[0m\u001b[0;34m)\u001b[0m\u001b[0;34m\u001b[0m\u001b[0m\n\u001b[0m\u001b[1;32m     16\u001b[0m \u001b[0;34m\u001b[0m\u001b[0m\n\u001b[1;32m     17\u001b[0m \u001b[0mprint\u001b[0m\u001b[0;34m(\u001b[0m\u001b[0;34m\"Taux d'erreur NN = {:.1f}%\"\u001b[0m\u001b[0;34m.\u001b[0m\u001b[0mformat\u001b[0m\u001b[0;34m(\u001b[0m\u001b[0;36m100\u001b[0m\u001b[0;34m*\u001b[0m\u001b[0mnerr\u001b[0m\u001b[0;34m/\u001b[0m\u001b[0my_test\u001b[0m\u001b[0;34m.\u001b[0m\u001b[0mshape\u001b[0m\u001b[0;34m[\u001b[0m\u001b[0;36m0\u001b[0m\u001b[0;34m]\u001b[0m\u001b[0;34m)\u001b[0m\u001b[0;34m)\u001b[0m\u001b[0;34m\u001b[0m\u001b[0m\n",
            "\u001b[0;31mNameError\u001b[0m: name 'y_predic' is not defined"
          ]
        }
      ]
    }
  ]
}